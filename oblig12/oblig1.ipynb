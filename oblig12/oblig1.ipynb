{
 "nbformat": 4,
 "nbformat_minor": 2,
 "metadata": {
  "language_info": {
   "name": "python",
   "codemirror_mode": {
    "name": "ipython",
    "version": 3
   },
   "version": "3.7.6-final"
  },
  "orig_nbformat": 2,
  "file_extension": ".py",
  "mimetype": "text/x-python",
  "name": "python",
  "npconvert_exporter": "python",
  "pygments_lexer": "ipython3",
  "version": 3,
  "kernelspec": {
   "name": "python3",
   "display_name": "Python 3"
  }
 },
 "cells": [
  {
   "cell_type": "markdown",
   "metadata": {},
   "source": []
  },
  {
   "cell_type": "markdown",
   "metadata": {},
   "source": [
    "# Oblig 1 - second try, Sanders\n"
   ]
  },
  {
   "cell_type": "markdown",
   "metadata": {},
   "source": [
    "## Depnencies\n",
    "\n"
   ]
  },
  {
   "cell_type": "code",
   "execution_count": 20,
   "metadata": {},
   "outputs": [],
   "source": [
    "import numpy as np\n",
    "import matplotlib.pyplot as plt\n",
    "import time\n",
    "\n",
    "import src.exhaustive_search as exhaustive_search\n",
    "\n",
    "import src.data as data\n",
    "import src.population as population\n",
    "import src.genotype as genotype\n",
    "import src.hill_climbing as hill\n",
    "\n",
    "path_to_datafile = \"data//european_cities.csv\""
   ]
  },
  {
   "cell_type": "code",
   "execution_count": 21,
   "metadata": {},
   "outputs": [
    {
     "data": {
      "text/plain": "[(0, 'Barcelona'),\n (1, 'Belgrade'),\n (2, 'Berlin'),\n (3, 'Brussels'),\n (4, 'Bucharest'),\n (5, 'Budapest'),\n (6, 'Copenhagen'),\n (7, 'Dublin'),\n (8, 'Hamburg'),\n (9, 'Istanbul'),\n (10, 'Kiev'),\n (11, 'London'),\n (12, 'Madrid'),\n (13, 'Milan'),\n (14, 'Moscow'),\n (15, 'Munich'),\n (16, 'Paris'),\n (17, 'Prague'),\n (18, 'Rome'),\n (19, 'Saint Petersburg'),\n (20, 'Sofia'),\n (21, 'Stockholm'),\n (22, 'Vienna'),\n (23, 'Warsaw')]"
     },
     "execution_count": 21,
     "metadata": {},
     "output_type": "execute_result"
    }
   ],
   "source": [
    "## Cities Overview\n",
    "cities_data = data.data(path_to_datafile)\n",
    "cities_data.get_overview(24)"
   ]
  },
  {
   "cell_type": "code",
   "execution_count": 22,
   "metadata": {},
   "outputs": [],
   "source": [
    "def fit(model, df): # For calculating socres\n",
    "    # ip.embed()\n",
    "    x = 0 # summation variable\n",
    "    for i in range(len(model)-1):\n",
    "        x += df.iloc[model[i], model[i+1]]\n",
    "    x += df.iloc[model[-1], model[0]]\n",
    "    return x"
   ]
  },
  {
   "cell_type": "markdown",
   "metadata": {},
   "source": [
    "## Exhaustive Search\n"
   ]
  },
  {
   "cell_type": "code",
   "execution_count": 23,
   "metadata": {},
   "outputs": [
    {
     "name": "stdout",
     "output_type": "stream",
     "text": "n: 2, Score: 3056.26, time: 0.0050008000000000006 path: [0, 1]\nn: 3, Score: 4024.99, time: 0.005000500000000001 path: [0, 1, 2]\nn: 4, Score: 4241.89, time: 0.0050012 path: [0, 1, 2, 3]\nn: 5, Score: 4983.38, time: 0.0050008000000000006 path: [0, 1, 4, 2, 3]\nn: 6, Score: 5018.8099999999995, time: 0.0110022 path: [0, 1, 4, 5, 2, 3]\nn: 7, Score: 5487.89, time: 0.057012900000000005 path: [0, 1, 4, 5, 2, 6, 3]\nn: 8, Score: 6667.49, time: 0.372095 path: [0, 1, 4, 5, 2, 6, 3, 7]\nn: 9, Score: 6678.55, time: 3.2977472000000003 path: [0, 1, 4, 5, 2, 6, 8, 3, 7]\nn: 10, Score: 7486.3099999999995, time: 33.26054 path: [0, 1, 9, 4, 5, 2, 6, 8, 3, 7]\n"
    }
   ],
   "source": [
    "\n",
    "for number_of_cities in range(2, 11):\n",
    "    start = time.time_ns()\n",
    "    r = exhaustive_search.exhaustiveSearch(number_of_cities)\n",
    "    stop = time.time_ns()\n",
    "    print(f\"n: {number_of_cities}, Score: {r[1]}, time: {(stop - start) * 1e-9} path: {r[0]}\")\n"
   ]
  },
  {
   "cell_type": "markdown",
   "metadata": {},
   "source": [
    "Since 10 cities take 33 seconds and the time will scale with (N-1)! So for 24 cities will be 33 * (23!/10!)"
   ]
  },
  {
   "cell_type": "code",
   "execution_count": 24,
   "metadata": {},
   "outputs": [
    {
     "name": "stdout",
     "output_type": "stream",
     "text": "178793863938.62833\n"
    }
   ],
   "source": [
    "years = 33*(np.math.factorial(24)/np.math.factorial(10))/60/60/24/365.25\n",
    "print(years)"
   ]
  },
  {
   "cell_type": "markdown",
   "metadata": {},
   "source": [
    "## Hill Climbing\n"
   ]
  },
  {
   "cell_type": "code",
   "execution_count": 25,
   "metadata": {},
   "outputs": [
    {
     "name": "stdout",
     "output_type": "stream",
     "text": "Number of cities: 2\nNumber of cities: 3\nNumber of cities: 4\nNumber of cities: 5\nNumber of cities: 6\nNumber of cities: 7\nNumber of cities: 8\nNumber of cities: 9\nNumber of cities: 10\nNumber of cities: 24\n"
    }
   ],
   "source": [
    "cities = [2,3,4,5,6,7,8,9,10,24]\n",
    "scores = {}\n",
    "mean_scores = {}\n",
    "best_scores = {}\n",
    "worst_scores = {}\n",
    "sds = {}\n",
    "paths = {}\n",
    "times = {}\n",
    "for number_of_cities in cities:\n",
    "    print(f\"Number of cities: {number_of_cities}\")\n",
    "    scores[number_of_cities] =np.zeros(20)\n",
    "    times[number_of_cities] = 0\n",
    "    for i in range(20):\n",
    "        subset_data = cities_data.get_subset(number_of_cities)\n",
    "        start = time.time_ns()\n",
    "        path, score = hill.hill(subset_data, fit)\n",
    "        stop = time.time_ns()\n",
    "\n",
    "        times[number_of_cities] += stop - start\n",
    "        scores[number_of_cities][i] = score\n",
    "    \n",
    "    mean_scores[number_of_cities] = np.mean(scores[number_of_cities])\n",
    "    times[number_of_cities] /= 20\n",
    "    sds[number_of_cities] = np.std(scores[number_of_cities])\n",
    "    worst_scores[number_of_cities] = np.max(scores[number_of_cities])\n",
    "    best_scores[number_of_cities] = np.min(scores[number_of_cities]) "
   ]
  },
  {
   "cell_type": "code",
   "execution_count": 26,
   "metadata": {},
   "outputs": [
    {
     "name": "stdout",
     "output_type": "stream",
     "text": "Number of cities: 2, \n    best: 3056.26, worst: 3056.26, mean: 3056.2600000000007 \n    time: 0.20559791500000002, sd: 4.547473508864641e-13\nNumber of cities: 3, \n    best: 4024.99, worst: 4024.99, mean: 4024.9900000000007 \n    time: 0.29271699, sd: 9.094947017729282e-13\nNumber of cities: 4, \n    best: 4241.89, worst: 4241.89, mean: 4241.89 \n    time: 0.38043679500000005, sd: 0.0\nNumber of cities: 5, \n    best: 4983.38, worst: 5776.78, mean: 5119.163500000001 \n    time: 0.47550787000000005, sd: 267.4897982965891\nNumber of cities: 6, \n    best: 5018.8099999999995, worst: 6107.72, mean: 5423.139000000001 \n    time: 0.5580873350000001, sd: 321.2850053597274\nNumber of cities: 7, \n    best: 5487.89, worst: 7099.68, mean: 6234.064 \n    time: 0.6486919400000001, sd: 458.98200751663444\nNumber of cities: 8, \n    best: 7287.039999999999, worst: 8747.12, mean: 7931.3544999999995 \n    time: 0.74032445, sd: 496.1212876653756\nNumber of cities: 9, \n    best: 7151.96, worst: 9243.849999999999, mean: 8503.4505 \n    time: 0.8569463100000001, sd: 571.2424674205777\nNumber of cities: 10, \n    best: 8477.899999999998, worst: 11808.77, mean: 9997.0565 \n    time: 0.915957715, sd: 787.7839434722891\nNumber of cities: 24, \n    best: 24123.21, worst: 30002.129999999997, mean: 26951.519500000002 \n    time: 2.1649413, sd: 1682.9042406966441\n"
    }
   ],
   "source": [
    "for number_of_cities in cities:\n",
    "    print(f\"Number of cities: {number_of_cities}, \\n\" +\\\n",
    "     f\"    best: {best_scores[number_of_cities]}, worst: {worst_scores[number_of_cities]}, mean: {mean_scores[number_of_cities]} \\n\" +\\\n",
    "     f\"    time: {times[number_of_cities] * 1e-9}, sd: {sds[number_of_cities]}\")"
   ]
  },
  {
   "cell_type": "markdown",
   "metadata": {},
   "source": [
    "## Genetic algorithm"
   ]
  },
  {
   "cell_type": "markdown",
   "metadata": {},
   "source": [
    "### Constants"
   ]
  },
  {
   "cell_type": "code",
   "execution_count": 27,
   "metadata": {},
   "outputs": [],
   "source": [
    "path_to_datafile = \"data//european_cities.csv\" # relative path\n",
    "\n",
    "number_of_generations = 150# Number of iterations, break condition\n",
    "start_city = 0 # TODO : implement for start city\n",
    "subset_sizes = [6, 24]\n",
    "pop_sizes = np.array([10, 40, 100], dtype=\"int_\")\n",
    "parent_selection_portion = 0.5\n",
    "Noffsprings = pop_sizes*2\n",
    "mutation_p = 0.1\n",
    "runs = 20 # runs of the algorithm"
   ]
  },
  {
   "cell_type": "markdown",
   "metadata": {},
   "source": [
    "### Data managment"
   ]
  },
  {
   "cell_type": "code",
   "execution_count": 28,
   "metadata": {},
   "outputs": [],
   "source": [
    "cities_data = data.data()\n",
    "cities_data.read_csv(path_to_datafile)\n",
    "representation = cities_data.get_representation(start=0, N=subset_sizes[1])\n",
    "subset_data = cities_data.get_subset(subset_sizes[1])\n",
    "scores = np.zeros(shape=(number_of_generations))"
   ]
  },
  {
   "cell_type": "markdown",
   "metadata": {},
   "source": [
    "### The algorithm"
   ]
  },
  {
   "cell_type": "code",
   "execution_count": 29,
   "metadata": {},
   "outputs": [],
   "source": [
    "def genetic_algorithm(cur_population, df,  number_of_generations):\n",
    "    # Init\n",
    "    start_time = time.time_ns() # nanoseconds since the epoch\n",
    "    scores = np.zeros(number_of_generations)\n",
    "    # -  Evaluate\n",
    "    res = cur_population.evaluate(df=subset_data, genotype_set=\"population\")\n",
    "    scores[0] = np.sum(res)/ len(res)\n",
    "    # -  Loop\n",
    "    for generation in range(number_of_generations):\n",
    "        # ip.embed()\n",
    "    # -  Parent Selection\n",
    "        cur_population.parent_selection()\n",
    "    # -  Recombine - Crossover\n",
    "        cur_population.recombination()\n",
    "    # -  Mutate\n",
    "        cur_population.mutate()\n",
    "    # -  Evaluate\n",
    "        cur_population.evaluate(df=subset_data, genotype_set=\"offsprings\")\n",
    "    # -  Survivor Selection\n",
    "        cur_population.survivor_selection()\n",
    "\n",
    "    # - Storing data\n",
    "        res = cur_population.scores\n",
    "        scores[generation] = np.sum(res)/ len(res)\n",
    "    # -  endLoop\n",
    "        \n",
    "    end_time = time.time_ns()\n",
    "    time_elapsed = end_time - start_time\n",
    "\n",
    "    return scores, time_elapsed"
   ]
  },
  {
   "cell_type": "markdown",
   "metadata": {},
   "source": [
    "### Running 24 cities with 3 different population sizes\n"
   ]
  },
  {
   "cell_type": "code",
   "execution_count": 30,
   "metadata": {},
   "outputs": [
    {
     "name": "stdout",
     "output_type": "stream",
     "text": "Running for pop_size: 10\nRunning for pop_size: 40\nRunning for pop_size: 100\n"
    }
   ],
   "source": [
    "# Init\n",
    "subset_size = 24\n",
    "subset_data = cities_data.get_subset(subset_size)\n",
    "representation = cities_data.get_representation(subset_size)\n",
    "\n",
    "mean_scores = {}\n",
    "end_scores = {}\n",
    "sds = {}\n",
    "times = {}\n",
    "# Running\n",
    "for pop_size in pop_sizes:\n",
    "    print(f\"Running for pop_size: {pop_size}\")\n",
    "    mean_scores[pop_size] = np.zeros(number_of_generations)\n",
    "    end_scores[pop_size] = np.zeros(runs)\n",
    "    times[pop_size] = 0\n",
    "    for i in range(runs):\n",
    "        cur_population = population.Population(\n",
    "            Genotype = genotype.Genotype,\n",
    "            representation= representation,\n",
    "            evaluator = fit,\n",
    "            population_size = int(pop_size),\n",
    "            parent_selection_portion = parent_selection_portion,\n",
    "            number_of_offsprings = int(pop_size)*2,\n",
    "            mutation_probability = mutation_p\n",
    "        )\n",
    "        score, time_elapsed = genetic_algorithm(\n",
    "            cur_population,\n",
    "            df = subset_data,\n",
    "            number_of_generations = number_of_generations\n",
    "        )\n",
    "        mean_scores[pop_size] += np.array(score)\n",
    "        end_scores[pop_size][i] = score[-1]\n",
    "        times[pop_size] += time_elapsed\n",
    "    times[pop_size] /= runs\n",
    "    mean_scores[pop_size] /= number_of_generations\n",
    "    sds[pop_size] = np.mean(end_scores[pop_size])\n"
   ]
  },
  {
   "cell_type": "markdown",
   "metadata": {},
   "source": [
    "### Showing results"
   ]
  },
  {
   "cell_type": "code",
   "execution_count": 31,
   "metadata": {},
   "outputs": [
    {
     "name": "stdout",
     "output_type": "stream",
     "text": "pop_size: 10, best end score: 12976.740000000002, worst end score: 16778.16, sd: 15106.28595, time: 0.850392005 \npop_size: 40, best end score: 12903.55, worst end score: 15916.779999999995, sd: 13932.311500000002, time: 3.14426592 \npop_size: 100, best end score: 12325.93, worst end score: 15032.239999999993, sd: 13328.023000000001, time: 7.63350532 \n"
    },
    {
     "data": {
      "image/png": "[encoded data removed]",
      "image/svg+xml": "<?xml version=\"1.0\" encoding=\"utf-8\" standalone=\"no\"?>\r\n<!DOCTYPE svg PUBLIC \"-//W3C//DTD SVG 1.1//EN\"\r\n  \"http://www.w3.org/Graphics/SVG/1.1/DTD/svg11.dtd\">\r\n<!-- Created with matplotlib (https://matplotlib.org/) -->\r\n<svg height=\"251.918426pt\" version=\"1.1\" viewBox=\"0 0 381.65 251.918426\" width=\"381.65pt\" xmlns=\"http://www.w3.org/2000/svg\" xmlns:xlink=\"http://www.w3.org/1999/xlink\">\r\n <defs>\r\n  <style type=\"text/css\">\r\n*{stroke-linecap:butt;stroke-linejoin:round;}\r\n  </style>\r\n </defs>\r\n <g id=\"figure_1\">\r\n  <g id=\"patch_1\">\r\n   <path d=\"M -0 251.918426 \r\nL 381.65 251.918426 \r\nL 381.65 0 \r\nL -0 0 \r\nz\r\n\" style=\"fill:none;\"/>\r\n  </g>\r\n  <g id=\"axes_1\">\r\n   <g id=\"patch_2\">\r\n    <path d=\"M 39.65 228.040301 \r\nL 374.45 228.040301 \r\nL 374.45 10.600301 \r\nL 39.65 10.600301 \r\nz\r\n\" style=\"fill:#ffffff;\"/>\r\n   </g>\r\n   <g id=\"matplotlib.axis_1\">\r\n    <g id=\"xtick_1\">\r\n     <g id=\"line2d_1\">\r\n      <defs>\r\n       <path d=\"M 0 0 \r\nL 0 3.5 \r\n\" id=\"m8bd17c2dea\" style=\"stroke:#000000;stroke-width:0.8;\"/>\r\n      </defs>\r\n      <g>\r\n       <use style=\"stroke:#000000;stroke-width:0.8;\" x=\"54.868182\" xlink:href=\"#m8bd17c2dea\" y=\"228.040301\"/>\r\n      </g>\r\n     </g>\r\n     <g id=\"text_1\">\r\n      <!-- 0 -->\r\n      <defs>\r\n       <path d=\"M 31.78125 66.40625 \r\nQ 24.171875 66.40625 20.328125 58.90625 \r\nQ 16.5 51.421875 16.5 36.375 \r\nQ 16.5 21.390625 20.328125 13.890625 \r\nQ 24.171875 6.390625 31.78125 6.390625 \r\nQ 39.453125 6.390625 43.28125 13.890625 \r\nQ 47.125 21.390625 47.125 36.375 \r\nQ 47.125 51.421875 43.28125 58.90625 \r\nQ 39.453125 66.40625 31.78125 66.40625 \r\nz\r\nM 31.78125 74.21875 \r\nQ 44.046875 74.21875 50.515625 64.515625 \r\nQ 56.984375 54.828125 56.984375 36.375 \r\nQ 56.984375 17.96875 50.515625 8.265625 \r\nQ 44.046875 -1.421875 31.78125 -1.421875 \r\nQ 19.53125 -1.421875 13.0625 8.265625 \r\nQ 6.59375 17.96875 6.59375 36.375 \r\nQ 6.59375 54.828125 13.0625 64.515625 \r\nQ 19.53125 74.21875 31.78125 74.21875 \r\nz\r\n\" id=\"DejaVuSans-48\"/>\r\n      </defs>\r\n      <g transform=\"translate(51.686932 242.638738)scale(0.1 -0.1)\">\r\n       <use xlink:href=\"#DejaVuSans-48\"/>\r\n      </g>\r\n     </g>\r\n    </g>\r\n    <g id=\"xtick_2\">\r\n     <g id=\"line2d_2\">\r\n      <g>\r\n       <use style=\"stroke:#000000;stroke-width:0.8;\" x=\"95.722361\" xlink:href=\"#m8bd17c2dea\" y=\"228.040301\"/>\r\n      </g>\r\n     </g>\r\n     <g id=\"text_2\">\r\n      <!-- 20 -->\r\n      <defs>\r\n       <path d=\"M 19.1875 8.296875 \r\nL 53.609375 8.296875 \r\nL 53.609375 0 \r\nL 7.328125 0 \r\nL 7.328125 8.296875 \r\nQ 12.9375 14.109375 22.625 23.890625 \r\nQ 32.328125 33.6875 34.8125 36.53125 \r\nQ 39.546875 41.84375 41.421875 45.53125 \r\nQ 43.3125 49.21875 43.3125 52.78125 \r\nQ 43.3125 58.59375 39.234375 62.25 \r\nQ 35.15625 65.921875 28.609375 65.921875 \r\nQ 23.96875 65.921875 18.8125 64.3125 \r\nQ 13.671875 62.703125 7.8125 59.421875 \r\nL 7.8125 69.390625 \r\nQ 13.765625 71.78125 18.9375 73 \r\nQ 24.125 74.21875 28.421875 74.21875 \r\nQ 39.75 74.21875 46.484375 68.546875 \r\nQ 53.21875 62.890625 53.21875 53.421875 \r\nQ 53.21875 48.921875 51.53125 44.890625 \r\nQ 49.859375 40.875 45.40625 35.40625 \r\nQ 44.1875 33.984375 37.640625 27.21875 \r\nQ 31.109375 20.453125 19.1875 8.296875 \r\nz\r\n\" id=\"DejaVuSans-50\"/>\r\n      </defs>\r\n      <g transform=\"translate(89.359861 242.638738)scale(0.1 -0.1)\">\r\n       <use xlink:href=\"#DejaVuSans-50\"/>\r\n       <use x=\"63.623047\" xlink:href=\"#DejaVuSans-48\"/>\r\n      </g>\r\n     </g>\r\n    </g>\r\n    <g id=\"xtick_3\">\r\n     <g id=\"line2d_3\">\r\n      <g>\r\n       <use style=\"stroke:#000000;stroke-width:0.8;\" x=\"136.576541\" xlink:href=\"#m8bd17c2dea\" y=\"228.040301\"/>\r\n      </g>\r\n     </g>\r\n     <g id=\"text_3\">\r\n      <!-- 40 -->\r\n      <defs>\r\n       <path d=\"M 37.796875 64.3125 \r\nL 12.890625 25.390625 \r\nL 37.796875 25.390625 \r\nz\r\nM 35.203125 72.90625 \r\nL 47.609375 72.90625 \r\nL 47.609375 25.390625 \r\nL 58.015625 25.390625 \r\nL 58.015625 17.1875 \r\nL 47.609375 17.1875 \r\nL 47.609375 0 \r\nL 37.796875 0 \r\nL 37.796875 17.1875 \r\nL 4.890625 17.1875 \r\nL 4.890625 26.703125 \r\nz\r\n\" id=\"DejaVuSans-52\"/>\r\n      </defs>\r\n      <g transform=\"translate(130.214041 242.638738)scale(0.1 -0.1)\">\r\n       <use xlink:href=\"#DejaVuSans-52\"/>\r\n       <use x=\"63.623047\" xlink:href=\"#DejaVuSans-48\"/>\r\n      </g>\r\n     </g>\r\n    </g>\r\n    <g id=\"xtick_4\">\r\n     <g id=\"line2d_4\">\r\n      <g>\r\n       <use style=\"stroke:#000000;stroke-width:0.8;\" x=\"177.43072\" xlink:href=\"#m8bd17c2dea\" y=\"228.040301\"/>\r\n      </g>\r\n     </g>\r\n     <g id=\"text_4\">\r\n      <!-- 60 -->\r\n      <defs>\r\n       <path d=\"M 33.015625 40.375 \r\nQ 26.375 40.375 22.484375 35.828125 \r\nQ 18.609375 31.296875 18.609375 23.390625 \r\nQ 18.609375 15.53125 22.484375 10.953125 \r\nQ 26.375 6.390625 33.015625 6.390625 \r\nQ 39.65625 6.390625 43.53125 10.953125 \r\nQ 47.40625 15.53125 47.40625 23.390625 \r\nQ 47.40625 31.296875 43.53125 35.828125 \r\nQ 39.65625 40.375 33.015625 40.375 \r\nz\r\nM 52.59375 71.296875 \r\nL 52.59375 62.3125 \r\nQ 48.875 64.0625 45.09375 64.984375 \r\nQ 41.3125 65.921875 37.59375 65.921875 \r\nQ 27.828125 65.921875 22.671875 59.328125 \r\nQ 17.53125 52.734375 16.796875 39.40625 \r\nQ 19.671875 43.65625 24.015625 45.921875 \r\nQ 28.375 48.1875 33.59375 48.1875 \r\nQ 44.578125 48.1875 50.953125 41.515625 \r\nQ 57.328125 34.859375 57.328125 23.390625 \r\nQ 57.328125 12.15625 50.6875 5.359375 \r\nQ 44.046875 -1.421875 33.015625 -1.421875 \r\nQ 20.359375 -1.421875 13.671875 8.265625 \r\nQ 6.984375 17.96875 6.984375 36.375 \r\nQ 6.984375 53.65625 15.1875 63.9375 \r\nQ 23.390625 74.21875 37.203125 74.21875 \r\nQ 40.921875 74.21875 44.703125 73.484375 \r\nQ 48.484375 72.75 52.59375 71.296875 \r\nz\r\n\" id=\"DejaVuSans-54\"/>\r\n      </defs>\r\n      <g transform=\"translate(171.06822 242.638738)scale(0.1 -0.1)\">\r\n       <use xlink:href=\"#DejaVuSans-54\"/>\r\n       <use x=\"63.623047\" xlink:href=\"#DejaVuSans-48\"/>\r\n      </g>\r\n     </g>\r\n    </g>\r\n    <g id=\"xtick_5\">\r\n     <g id=\"line2d_5\">\r\n      <g>\r\n       <use style=\"stroke:#000000;stroke-width:0.8;\" x=\"218.284899\" xlink:href=\"#m8bd17c2dea\" y=\"228.040301\"/>\r\n      </g>\r\n     </g>\r\n     <g id=\"text_5\">\r\n      <!-- 80 -->\r\n      <defs>\r\n       <path d=\"M 31.78125 34.625 \r\nQ 24.75 34.625 20.71875 30.859375 \r\nQ 16.703125 27.09375 16.703125 20.515625 \r\nQ 16.703125 13.921875 20.71875 10.15625 \r\nQ 24.75 6.390625 31.78125 6.390625 \r\nQ 38.8125 6.390625 42.859375 10.171875 \r\nQ 46.921875 13.96875 46.921875 20.515625 \r\nQ 46.921875 27.09375 42.890625 30.859375 \r\nQ 38.875 34.625 31.78125 34.625 \r\nz\r\nM 21.921875 38.8125 \r\nQ 15.578125 40.375 12.03125 44.71875 \r\nQ 8.5 49.078125 8.5 55.328125 \r\nQ 8.5 64.0625 14.71875 69.140625 \r\nQ 20.953125 74.21875 31.78125 74.21875 \r\nQ 42.671875 74.21875 48.875 69.140625 \r\nQ 55.078125 64.0625 55.078125 55.328125 \r\nQ 55.078125 49.078125 51.53125 44.71875 \r\nQ 48 40.375 41.703125 38.8125 \r\nQ 48.828125 37.15625 52.796875 32.3125 \r\nQ 56.78125 27.484375 56.78125 20.515625 \r\nQ 56.78125 9.90625 50.3125 4.234375 \r\nQ 43.84375 -1.421875 31.78125 -1.421875 \r\nQ 19.734375 -1.421875 13.25 4.234375 \r\nQ 6.78125 9.90625 6.78125 20.515625 \r\nQ 6.78125 27.484375 10.78125 32.3125 \r\nQ 14.796875 37.15625 21.921875 38.8125 \r\nz\r\nM 18.3125 54.390625 \r\nQ 18.3125 48.734375 21.84375 45.5625 \r\nQ 25.390625 42.390625 31.78125 42.390625 \r\nQ 38.140625 42.390625 41.71875 45.5625 \r\nQ 45.3125 48.734375 45.3125 54.390625 \r\nQ 45.3125 60.0625 41.71875 63.234375 \r\nQ 38.140625 66.40625 31.78125 66.40625 \r\nQ 25.390625 66.40625 21.84375 63.234375 \r\nQ 18.3125 60.0625 18.3125 54.390625 \r\nz\r\n\" id=\"DejaVuSans-56\"/>\r\n      </defs>\r\n      <g transform=\"translate(211.922399 242.638738)scale(0.1 -0.1)\">\r\n       <use xlink:href=\"#DejaVuSans-56\"/>\r\n       <use x=\"63.623047\" xlink:href=\"#DejaVuSans-48\"/>\r\n      </g>\r\n     </g>\r\n    </g>\r\n    <g id=\"xtick_6\">\r\n     <g id=\"line2d_6\">\r\n      <g>\r\n       <use style=\"stroke:#000000;stroke-width:0.8;\" x=\"259.139079\" xlink:href=\"#m8bd17c2dea\" y=\"228.040301\"/>\r\n      </g>\r\n     </g>\r\n     <g id=\"text_6\">\r\n      <!-- 100 -->\r\n      <defs>\r\n       <path d=\"M 12.40625 8.296875 \r\nL 28.515625 8.296875 \r\nL 28.515625 63.921875 \r\nL 10.984375 60.40625 \r\nL 10.984375 69.390625 \r\nL 28.421875 72.90625 \r\nL 38.28125 72.90625 \r\nL 38.28125 8.296875 \r\nL 54.390625 8.296875 \r\nL 54.390625 0 \r\nL 12.40625 0 \r\nz\r\n\" id=\"DejaVuSans-49\"/>\r\n      </defs>\r\n      <g transform=\"translate(249.595329 242.638738)scale(0.1 -0.1)\">\r\n       <use xlink:href=\"#DejaVuSans-49\"/>\r\n       <use x=\"63.623047\" xlink:href=\"#DejaVuSans-48\"/>\r\n       <use x=\"127.246094\" xlink:href=\"#DejaVuSans-48\"/>\r\n      </g>\r\n     </g>\r\n    </g>\r\n    <g id=\"xtick_7\">\r\n     <g id=\"line2d_7\">\r\n      <g>\r\n       <use style=\"stroke:#000000;stroke-width:0.8;\" x=\"299.993258\" xlink:href=\"#m8bd17c2dea\" y=\"228.040301\"/>\r\n      </g>\r\n     </g>\r\n     <g id=\"text_7\">\r\n      <!-- 120 -->\r\n      <g transform=\"translate(290.449508 242.638738)scale(0.1 -0.1)\">\r\n       <use xlink:href=\"#DejaVuSans-49\"/>\r\n       <use x=\"63.623047\" xlink:href=\"#DejaVuSans-50\"/>\r\n       <use x=\"127.246094\" xlink:href=\"#DejaVuSans-48\"/>\r\n      </g>\r\n     </g>\r\n    </g>\r\n    <g id=\"xtick_8\">\r\n     <g id=\"line2d_8\">\r\n      <g>\r\n       <use style=\"stroke:#000000;stroke-width:0.8;\" x=\"340.847437\" xlink:href=\"#m8bd17c2dea\" y=\"228.040301\"/>\r\n      </g>\r\n     </g>\r\n     <g id=\"text_8\">\r\n      <!-- 140 -->\r\n      <g transform=\"translate(331.303687 242.638738)scale(0.1 -0.1)\">\r\n       <use xlink:href=\"#DejaVuSans-49\"/>\r\n       <use x=\"63.623047\" xlink:href=\"#DejaVuSans-52\"/>\r\n       <use x=\"127.246094\" xlink:href=\"#DejaVuSans-48\"/>\r\n      </g>\r\n     </g>\r\n    </g>\r\n   </g>\r\n   <g id=\"matplotlib.axis_2\">\r\n    <g id=\"ytick_1\">\r\n     <g id=\"line2d_9\">\r\n      <defs>\r\n       <path d=\"M 0 0 \r\nL -3.5 0 \r\n\" id=\"m5644058559\" style=\"stroke:#000000;stroke-width:0.8;\"/>\r\n      </defs>\r\n      <g>\r\n       <use style=\"stroke:#000000;stroke-width:0.8;\" x=\"39.65\" xlink:href=\"#m5644058559\" y=\"197.381535\"/>\r\n      </g>\r\n     </g>\r\n     <g id=\"text_9\">\r\n      <!-- 2000 -->\r\n      <g transform=\"translate(7.2 201.180754)scale(0.1 -0.1)\">\r\n       <use xlink:href=\"#DejaVuSans-50\"/>\r\n       <use x=\"63.623047\" xlink:href=\"#DejaVuSans-48\"/>\r\n       <use x=\"127.246094\" xlink:href=\"#DejaVuSans-48\"/>\r\n       <use x=\"190.869141\" xlink:href=\"#DejaVuSans-48\"/>\r\n      </g>\r\n     </g>\r\n    </g>\r\n    <g id=\"ytick_2\">\r\n     <g id=\"line2d_10\">\r\n      <g>\r\n       <use style=\"stroke:#000000;stroke-width:0.8;\" x=\"39.65\" xlink:href=\"#m5644058559\" y=\"150.785956\"/>\r\n      </g>\r\n     </g>\r\n     <g id=\"text_10\">\r\n      <!-- 2500 -->\r\n      <defs>\r\n       <path d=\"M 10.796875 72.90625 \r\nL 49.515625 72.90625 \r\nL 49.515625 64.59375 \r\nL 19.828125 64.59375 \r\nL 19.828125 46.734375 \r\nQ 21.96875 47.46875 24.109375 47.828125 \r\nQ 26.265625 48.1875 28.421875 48.1875 \r\nQ 40.625 48.1875 47.75 41.5 \r\nQ 54.890625 34.8125 54.890625 23.390625 \r\nQ 54.890625 11.625 47.5625 5.09375 \r\nQ 40.234375 -1.421875 26.90625 -1.421875 \r\nQ 22.3125 -1.421875 17.546875 -0.640625 \r\nQ 12.796875 0.140625 7.71875 1.703125 \r\nL 7.71875 11.625 \r\nQ 12.109375 9.234375 16.796875 8.0625 \r\nQ 21.484375 6.890625 26.703125 6.890625 \r\nQ 35.15625 6.890625 40.078125 11.328125 \r\nQ 45.015625 15.765625 45.015625 23.390625 \r\nQ 45.015625 31 40.078125 35.4375 \r\nQ 35.15625 39.890625 26.703125 39.890625 \r\nQ 22.75 39.890625 18.8125 39.015625 \r\nQ 14.890625 38.140625 10.796875 36.28125 \r\nz\r\n\" id=\"DejaVuSans-53\"/>\r\n      </defs>\r\n      <g transform=\"translate(7.2 154.585175)scale(0.1 -0.1)\">\r\n       <use xlink:href=\"#DejaVuSans-50\"/>\r\n       <use x=\"63.623047\" xlink:href=\"#DejaVuSans-53\"/>\r\n       <use x=\"127.246094\" xlink:href=\"#DejaVuSans-48\"/>\r\n       <use x=\"190.869141\" xlink:href=\"#DejaVuSans-48\"/>\r\n      </g>\r\n     </g>\r\n    </g>\r\n    <g id=\"ytick_3\">\r\n     <g id=\"line2d_11\">\r\n      <g>\r\n       <use style=\"stroke:#000000;stroke-width:0.8;\" x=\"39.65\" xlink:href=\"#m5644058559\" y=\"104.190377\"/>\r\n      </g>\r\n     </g>\r\n     <g id=\"text_11\">\r\n      <!-- 3000 -->\r\n      <defs>\r\n       <path d=\"M 40.578125 39.3125 \r\nQ 47.65625 37.796875 51.625 33 \r\nQ 55.609375 28.21875 55.609375 21.1875 \r\nQ 55.609375 10.40625 48.1875 4.484375 \r\nQ 40.765625 -1.421875 27.09375 -1.421875 \r\nQ 22.515625 -1.421875 17.65625 -0.515625 \r\nQ 12.796875 0.390625 7.625 2.203125 \r\nL 7.625 11.71875 \r\nQ 11.71875 9.328125 16.59375 8.109375 \r\nQ 21.484375 6.890625 26.8125 6.890625 \r\nQ 36.078125 6.890625 40.9375 10.546875 \r\nQ 45.796875 14.203125 45.796875 21.1875 \r\nQ 45.796875 27.640625 41.28125 31.265625 \r\nQ 36.765625 34.90625 28.71875 34.90625 \r\nL 20.21875 34.90625 \r\nL 20.21875 43.015625 \r\nL 29.109375 43.015625 \r\nQ 36.375 43.015625 40.234375 45.921875 \r\nQ 44.09375 48.828125 44.09375 54.296875 \r\nQ 44.09375 59.90625 40.109375 62.90625 \r\nQ 36.140625 65.921875 28.71875 65.921875 \r\nQ 24.65625 65.921875 20.015625 65.03125 \r\nQ 15.375 64.15625 9.8125 62.3125 \r\nL 9.8125 71.09375 \r\nQ 15.4375 72.65625 20.34375 73.4375 \r\nQ 25.25 74.21875 29.59375 74.21875 \r\nQ 40.828125 74.21875 47.359375 69.109375 \r\nQ 53.90625 64.015625 53.90625 55.328125 \r\nQ 53.90625 49.265625 50.4375 45.09375 \r\nQ 46.96875 40.921875 40.578125 39.3125 \r\nz\r\n\" id=\"DejaVuSans-51\"/>\r\n      </defs>\r\n      <g transform=\"translate(7.2 107.989596)scale(0.1 -0.1)\">\r\n       <use xlink:href=\"#DejaVuSans-51\"/>\r\n       <use x=\"63.623047\" xlink:href=\"#DejaVuSans-48\"/>\r\n       <use x=\"127.246094\" xlink:href=\"#DejaVuSans-48\"/>\r\n       <use x=\"190.869141\" xlink:href=\"#DejaVuSans-48\"/>\r\n      </g>\r\n     </g>\r\n    </g>\r\n    <g id=\"ytick_4\">\r\n     <g id=\"line2d_12\">\r\n      <g>\r\n       <use style=\"stroke:#000000;stroke-width:0.8;\" x=\"39.65\" xlink:href=\"#m5644058559\" y=\"57.594798\"/>\r\n      </g>\r\n     </g>\r\n     <g id=\"text_12\">\r\n      <!-- 3500 -->\r\n      <g transform=\"translate(7.2 61.394017)scale(0.1 -0.1)\">\r\n       <use xlink:href=\"#DejaVuSans-51\"/>\r\n       <use x=\"63.623047\" xlink:href=\"#DejaVuSans-53\"/>\r\n       <use x=\"127.246094\" xlink:href=\"#DejaVuSans-48\"/>\r\n       <use x=\"190.869141\" xlink:href=\"#DejaVuSans-48\"/>\r\n      </g>\r\n     </g>\r\n    </g>\r\n    <g id=\"ytick_5\">\r\n     <g id=\"line2d_13\">\r\n      <g>\r\n       <use style=\"stroke:#000000;stroke-width:0.8;\" x=\"39.65\" xlink:href=\"#m5644058559\" y=\"10.999219\"/>\r\n      </g>\r\n     </g>\r\n     <g id=\"text_13\">\r\n      <!-- 4000 -->\r\n      <g transform=\"translate(7.2 14.798438)scale(0.1 -0.1)\">\r\n       <use xlink:href=\"#DejaVuSans-52\"/>\r\n       <use x=\"63.623047\" xlink:href=\"#DejaVuSans-48\"/>\r\n       <use x=\"127.246094\" xlink:href=\"#DejaVuSans-48\"/>\r\n       <use x=\"190.869141\" xlink:href=\"#DejaVuSans-48\"/>\r\n      </g>\r\n     </g>\r\n    </g>\r\n   </g>\r\n   <g id=\"line2d_14\">\r\n    <path clip-path=\"url(#pdd45e8cf83)\" d=\"M 54.868182 20.673404 \r\nL 58.9536 45.305557 \r\nL 60.996309 54.145628 \r\nL 63.039018 61.581771 \r\nL 65.081727 67.065466 \r\nL 67.124436 73.803871 \r\nL 69.167145 78.801204 \r\nL 71.209854 83.354292 \r\nL 73.252563 91.133956 \r\nL 75.295272 97.114031 \r\nL 77.33798 102.528918 \r\nL 79.380689 106.734164 \r\nL 81.423398 110.284041 \r\nL 83.466107 112.798493 \r\nL 85.508816 116.540551 \r\nL 87.551525 119.42912 \r\nL 89.594234 121.495398 \r\nL 91.636943 124.476641 \r\nL 93.679652 126.631605 \r\nL 95.722361 129.236723 \r\nL 97.76507 131.497116 \r\nL 99.807779 134.257266 \r\nL 101.850488 136.230341 \r\nL 103.893197 138.644892 \r\nL 112.064033 144.540268 \r\nL 114.106742 145.37532 \r\nL 118.19216 148.476596 \r\nL 120.234869 149.741307 \r\nL 122.277578 151.536677 \r\nL 124.320287 152.842627 \r\nL 128.405705 155.128519 \r\nL 132.491123 157.652764 \r\nL 136.576541 160.384042 \r\nL 140.661959 162.051095 \r\nL 142.704667 163.049992 \r\nL 144.747376 163.57049 \r\nL 148.832794 164.903623 \r\nL 150.875503 165.173846 \r\nL 152.918212 165.794717 \r\nL 154.960921 166.672333 \r\nL 159.046339 167.778174 \r\nL 165.174466 169.005865 \r\nL 167.217175 169.592938 \r\nL 169.259884 169.972219 \r\nL 171.302593 170.617069 \r\nL 175.388011 171.297479 \r\nL 181.516138 173.351298 \r\nL 185.601556 173.928196 \r\nL 191.729683 175.365615 \r\nL 193.772392 176.145428 \r\nL 195.815101 177.04934 \r\nL 197.85781 177.450923 \r\nL 203.985937 178.265797 \r\nL 210.114063 179.650225 \r\nL 212.156772 180.306433 \r\nL 214.199481 180.843373 \r\nL 218.284899 181.547526 \r\nL 220.327608 182.110325 \r\nL 222.370317 182.44025 \r\nL 224.413026 182.925964 \r\nL 226.455735 183.226962 \r\nL 230.541153 184.121104 \r\nL 232.583862 185.062868 \r\nL 236.66928 186.188358 \r\nL 238.711989 186.347135 \r\nL 240.754698 186.844427 \r\nL 246.882825 187.510357 \r\nL 248.925534 188.061424 \r\nL 250.968243 188.379974 \r\nL 257.09637 188.850392 \r\nL 263.224497 189.027043 \r\nL 271.395333 190.325756 \r\nL 273.438041 190.370465 \r\nL 277.523459 191.326762 \r\nL 279.566168 191.522311 \r\nL 285.694295 191.822905 \r\nL 287.737004 191.968313 \r\nL 289.779713 192.270232 \r\nL 304.078676 193.362609 \r\nL 308.164094 194.017228 \r\nL 312.249512 194.281599 \r\nL 328.591184 195.237098 \r\nL 332.676602 195.40929 \r\nL 342.890146 195.644846 \r\nL 346.975564 195.666001 \r\nL 359.231818 196.06088 \r\nL 359.231818 196.06088 \r\n\" style=\"fill:none;stroke:#1f77b4;stroke-linecap:square;stroke-width:1.5;\"/>\r\n   </g>\r\n   <g id=\"line2d_15\">\r\n    <path clip-path=\"url(#pdd45e8cf83)\" d=\"M 54.868182 20.483937 \r\nL 56.910891 35.11155 \r\nL 60.996309 55.308653 \r\nL 63.039018 62.029202 \r\nL 65.081727 70.175706 \r\nL 67.124436 77.045683 \r\nL 69.167145 82.243174 \r\nL 71.209854 89.215654 \r\nL 73.252563 94.168493 \r\nL 75.295272 99.431688 \r\nL 77.33798 105.168533 \r\nL 79.380689 110.399516 \r\nL 81.423398 114.849731 \r\nL 85.508816 125.022719 \r\nL 87.551525 129.857607 \r\nL 89.594234 132.763004 \r\nL 91.636943 137.021434 \r\nL 93.679652 140.648289 \r\nL 95.722361 145.234452 \r\nL 97.76507 150.274744 \r\nL 99.807779 154.351936 \r\nL 101.850488 157.57254 \r\nL 103.893197 161.082617 \r\nL 107.978615 167.163845 \r\nL 110.021324 169.310419 \r\nL 112.064033 172.053433 \r\nL 114.106742 174.593157 \r\nL 116.149451 176.572481 \r\nL 120.234869 179.867477 \r\nL 122.277578 181.349731 \r\nL 124.320287 183.000942 \r\nL 126.362996 184.971677 \r\nL 128.405705 186.694149 \r\nL 130.448414 188.036113 \r\nL 132.491123 189.081232 \r\nL 136.576541 190.829425 \r\nL 138.61925 191.836649 \r\nL 140.661959 192.999402 \r\nL 142.704667 193.981345 \r\nL 146.790085 196.2601 \r\nL 148.832794 196.968655 \r\nL 152.918212 198.018366 \r\nL 163.131757 199.969063 \r\nL 165.174466 200.60688 \r\nL 169.259884 201.569403 \r\nL 177.43072 202.816854 \r\nL 179.473429 203.061158 \r\nL 183.558847 203.991157 \r\nL 189.686974 204.966448 \r\nL 195.815101 205.94971 \r\nL 206.028646 207.05737 \r\nL 210.114063 207.284681 \r\nL 216.24219 207.590739 \r\nL 224.413026 208.162862 \r\nL 234.626571 209.18265 \r\nL 238.711989 209.444789 \r\nL 248.925534 209.717236 \r\nL 255.053661 209.980086 \r\nL 267.309915 210.168796 \r\nL 275.48075 210.445945 \r\nL 295.90784 210.481683 \r\nL 314.292221 210.572754 \r\nL 326.548475 210.643344 \r\nL 359.231818 210.648085 \r\nL 359.231818 210.648085 \r\n\" style=\"fill:none;stroke:#ff7f0e;stroke-linecap:square;stroke-width:1.5;\"/>\r\n   </g>\r\n   <g id=\"line2d_16\">\r\n    <path clip-path=\"url(#pdd45e8cf83)\" d=\"M 54.868182 20.682704 \r\nL 56.910891 34.826886 \r\nL 58.9536 45.19457 \r\nL 60.996309 52.120106 \r\nL 63.039018 57.957215 \r\nL 65.081727 62.03564 \r\nL 67.124436 67.875493 \r\nL 69.167145 71.906594 \r\nL 71.209854 76.912231 \r\nL 73.252563 80.485729 \r\nL 75.295272 85.353747 \r\nL 77.33798 90.91184 \r\nL 79.380689 95.389097 \r\nL 81.423398 100.523 \r\nL 87.551525 111.0181 \r\nL 89.594234 115.410282 \r\nL 91.636943 119.505714 \r\nL 95.722361 129.812972 \r\nL 101.850488 142.94346 \r\nL 105.935906 150.433671 \r\nL 107.978615 153.61294 \r\nL 110.021324 157.97425 \r\nL 114.106742 165.071857 \r\nL 116.149451 168.612017 \r\nL 124.320287 179.969665 \r\nL 126.362996 182.016938 \r\nL 134.533832 191.716979 \r\nL 136.576541 193.911699 \r\nL 138.61925 195.806981 \r\nL 142.704667 200.116138 \r\nL 144.747376 201.625808 \r\nL 148.832794 204.802701 \r\nL 150.875503 206.238807 \r\nL 152.918212 207.248469 \r\nL 154.960921 207.920234 \r\nL 161.089048 209.574884 \r\nL 171.302593 212.261358 \r\nL 173.345302 212.686429 \r\nL 179.473429 213.653785 \r\nL 185.601556 214.806656 \r\nL 193.772392 215.752329 \r\nL 197.85781 215.93754 \r\nL 208.071354 216.460845 \r\nL 220.327608 217.121064 \r\nL 240.754698 217.78128 \r\nL 275.48075 218.156665 \r\nL 359.231818 218.156665 \r\nL 359.231818 218.156665 \r\n\" style=\"fill:none;stroke:#2ca02c;stroke-linecap:square;stroke-width:1.5;\"/>\r\n   </g>\r\n   <g id=\"patch_3\">\r\n    <path d=\"M 39.65 228.040301 \r\nL 39.65 10.600301 \r\n\" style=\"fill:none;stroke:#000000;stroke-linecap:square;stroke-linejoin:miter;stroke-width:0.8;\"/>\r\n   </g>\r\n   <g id=\"patch_4\">\r\n    <path d=\"M 374.45 228.040301 \r\nL 374.45 10.600301 \r\n\" style=\"fill:none;stroke:#000000;stroke-linecap:square;stroke-linejoin:miter;stroke-width:0.8;\"/>\r\n   </g>\r\n   <g id=\"patch_5\">\r\n    <path d=\"M 39.65 228.040301 \r\nL 374.45 228.040301 \r\n\" style=\"fill:none;stroke:#000000;stroke-linecap:square;stroke-linejoin:miter;stroke-width:0.8;\"/>\r\n   </g>\r\n   <g id=\"patch_6\">\r\n    <path d=\"M 39.65 10.600301 \r\nL 374.45 10.600301 \r\n\" style=\"fill:none;stroke:#000000;stroke-linecap:square;stroke-linejoin:miter;stroke-width:0.8;\"/>\r\n   </g>\r\n   <g id=\"legend_1\">\r\n    <g id=\"patch_7\">\r\n     <path d=\"M 266.934375 63.469051 \r\nL 367.45 63.469051 \r\nQ 369.45 63.469051 369.45 61.469051 \r\nL 369.45 17.600301 \r\nQ 369.45 15.600301 367.45 15.600301 \r\nL 266.934375 15.600301 \r\nQ 264.934375 15.600301 264.934375 17.600301 \r\nL 264.934375 61.469051 \r\nQ 264.934375 63.469051 266.934375 63.469051 \r\nz\r\n\" style=\"fill:#ffffff;opacity:0.8;stroke:#cccccc;stroke-linejoin:miter;\"/>\r\n    </g>\r\n    <g id=\"line2d_17\">\r\n     <path d=\"M 268.934375 23.698738 \r\nL 288.934375 23.698738 \r\n\" style=\"fill:none;stroke:#1f77b4;stroke-linecap:square;stroke-width:1.5;\"/>\r\n    </g>\r\n    <g id=\"line2d_18\"/>\r\n    <g id=\"text_14\">\r\n     <!-- Pop_size: 10 -->\r\n     <defs>\r\n      <path d=\"M 19.671875 64.796875 \r\nL 19.671875 37.40625 \r\nL 32.078125 37.40625 \r\nQ 38.96875 37.40625 42.71875 40.96875 \r\nQ 46.484375 44.53125 46.484375 51.125 \r\nQ 46.484375 57.671875 42.71875 61.234375 \r\nQ 38.96875 64.796875 32.078125 64.796875 \r\nz\r\nM 9.8125 72.90625 \r\nL 32.078125 72.90625 \r\nQ 44.34375 72.90625 50.609375 67.359375 \r\nQ 56.890625 61.8125 56.890625 51.125 \r\nQ 56.890625 40.328125 50.609375 34.8125 \r\nQ 44.34375 29.296875 32.078125 29.296875 \r\nL 19.671875 29.296875 \r\nL 19.671875 0 \r\nL 9.8125 0 \r\nz\r\n\" id=\"DejaVuSans-80\"/>\r\n      <path d=\"M 30.609375 48.390625 \r\nQ 23.390625 48.390625 19.1875 42.75 \r\nQ 14.984375 37.109375 14.984375 27.296875 \r\nQ 14.984375 17.484375 19.15625 11.84375 \r\nQ 23.34375 6.203125 30.609375 6.203125 \r\nQ 37.796875 6.203125 41.984375 11.859375 \r\nQ 46.1875 17.53125 46.1875 27.296875 \r\nQ 46.1875 37.015625 41.984375 42.703125 \r\nQ 37.796875 48.390625 30.609375 48.390625 \r\nz\r\nM 30.609375 56 \r\nQ 42.328125 56 49.015625 48.375 \r\nQ 55.71875 40.765625 55.71875 27.296875 \r\nQ 55.71875 13.875 49.015625 6.21875 \r\nQ 42.328125 -1.421875 30.609375 -1.421875 \r\nQ 18.84375 -1.421875 12.171875 6.21875 \r\nQ 5.515625 13.875 5.515625 27.296875 \r\nQ 5.515625 40.765625 12.171875 48.375 \r\nQ 18.84375 56 30.609375 56 \r\nz\r\n\" id=\"DejaVuSans-111\"/>\r\n      <path d=\"M 18.109375 8.203125 \r\nL 18.109375 -20.796875 \r\nL 9.078125 -20.796875 \r\nL 9.078125 54.6875 \r\nL 18.109375 54.6875 \r\nL 18.109375 46.390625 \r\nQ 20.953125 51.265625 25.265625 53.625 \r\nQ 29.59375 56 35.59375 56 \r\nQ 45.5625 56 51.78125 48.09375 \r\nQ 58.015625 40.1875 58.015625 27.296875 \r\nQ 58.015625 14.40625 51.78125 6.484375 \r\nQ 45.5625 -1.421875 35.59375 -1.421875 \r\nQ 29.59375 -1.421875 25.265625 0.953125 \r\nQ 20.953125 3.328125 18.109375 8.203125 \r\nz\r\nM 48.6875 27.296875 \r\nQ 48.6875 37.203125 44.609375 42.84375 \r\nQ 40.53125 48.484375 33.40625 48.484375 \r\nQ 26.265625 48.484375 22.1875 42.84375 \r\nQ 18.109375 37.203125 18.109375 27.296875 \r\nQ 18.109375 17.390625 22.1875 11.75 \r\nQ 26.265625 6.109375 33.40625 6.109375 \r\nQ 40.53125 6.109375 44.609375 11.75 \r\nQ 48.6875 17.390625 48.6875 27.296875 \r\nz\r\n\" id=\"DejaVuSans-112\"/>\r\n      <path d=\"M 50.984375 -16.609375 \r\nL 50.984375 -23.578125 \r\nL -0.984375 -23.578125 \r\nL -0.984375 -16.609375 \r\nz\r\n\" id=\"DejaVuSans-95\"/>\r\n      <path d=\"M 44.28125 53.078125 \r\nL 44.28125 44.578125 \r\nQ 40.484375 46.53125 36.375 47.5 \r\nQ 32.28125 48.484375 27.875 48.484375 \r\nQ 21.1875 48.484375 17.84375 46.4375 \r\nQ 14.5 44.390625 14.5 40.28125 \r\nQ 14.5 37.15625 16.890625 35.375 \r\nQ 19.28125 33.59375 26.515625 31.984375 \r\nL 29.59375 31.296875 \r\nQ 39.15625 29.25 43.1875 25.515625 \r\nQ 47.21875 21.78125 47.21875 15.09375 \r\nQ 47.21875 7.46875 41.1875 3.015625 \r\nQ 35.15625 -1.421875 24.609375 -1.421875 \r\nQ 20.21875 -1.421875 15.453125 -0.5625 \r\nQ 10.6875 0.296875 5.421875 2 \r\nL 5.421875 11.28125 \r\nQ 10.40625 8.6875 15.234375 7.390625 \r\nQ 20.0625 6.109375 24.8125 6.109375 \r\nQ 31.15625 6.109375 34.5625 8.28125 \r\nQ 37.984375 10.453125 37.984375 14.40625 \r\nQ 37.984375 18.0625 35.515625 20.015625 \r\nQ 33.0625 21.96875 24.703125 23.78125 \r\nL 21.578125 24.515625 \r\nQ 13.234375 26.265625 9.515625 29.90625 \r\nQ 5.8125 33.546875 5.8125 39.890625 \r\nQ 5.8125 47.609375 11.28125 51.796875 \r\nQ 16.75 56 26.8125 56 \r\nQ 31.78125 56 36.171875 55.265625 \r\nQ 40.578125 54.546875 44.28125 53.078125 \r\nz\r\n\" id=\"DejaVuSans-115\"/>\r\n      <path d=\"M 9.421875 54.6875 \r\nL 18.40625 54.6875 \r\nL 18.40625 0 \r\nL 9.421875 0 \r\nz\r\nM 9.421875 75.984375 \r\nL 18.40625 75.984375 \r\nL 18.40625 64.59375 \r\nL 9.421875 64.59375 \r\nz\r\n\" id=\"DejaVuSans-105\"/>\r\n      <path d=\"M 5.515625 54.6875 \r\nL 48.1875 54.6875 \r\nL 48.1875 46.484375 \r\nL 14.40625 7.171875 \r\nL 48.1875 7.171875 \r\nL 48.1875 0 \r\nL 4.296875 0 \r\nL 4.296875 8.203125 \r\nL 38.09375 47.515625 \r\nL 5.515625 47.515625 \r\nz\r\n\" id=\"DejaVuSans-122\"/>\r\n      <path d=\"M 56.203125 29.59375 \r\nL 56.203125 25.203125 \r\nL 14.890625 25.203125 \r\nQ 15.484375 15.921875 20.484375 11.0625 \r\nQ 25.484375 6.203125 34.421875 6.203125 \r\nQ 39.59375 6.203125 44.453125 7.46875 \r\nQ 49.3125 8.734375 54.109375 11.28125 \r\nL 54.109375 2.78125 \r\nQ 49.265625 0.734375 44.1875 -0.34375 \r\nQ 39.109375 -1.421875 33.890625 -1.421875 \r\nQ 20.796875 -1.421875 13.15625 6.1875 \r\nQ 5.515625 13.8125 5.515625 26.8125 \r\nQ 5.515625 40.234375 12.765625 48.109375 \r\nQ 20.015625 56 32.328125 56 \r\nQ 43.359375 56 49.78125 48.890625 \r\nQ 56.203125 41.796875 56.203125 29.59375 \r\nz\r\nM 47.21875 32.234375 \r\nQ 47.125 39.59375 43.09375 43.984375 \r\nQ 39.0625 48.390625 32.421875 48.390625 \r\nQ 24.90625 48.390625 20.390625 44.140625 \r\nQ 15.875 39.890625 15.1875 32.171875 \r\nz\r\n\" id=\"DejaVuSans-101\"/>\r\n      <path d=\"M 11.71875 12.40625 \r\nL 22.015625 12.40625 \r\nL 22.015625 0 \r\nL 11.71875 0 \r\nz\r\nM 11.71875 51.703125 \r\nL 22.015625 51.703125 \r\nL 22.015625 39.3125 \r\nL 11.71875 39.3125 \r\nz\r\n\" id=\"DejaVuSans-58\"/>\r\n      <path id=\"DejaVuSans-32\"/>\r\n     </defs>\r\n     <g transform=\"translate(296.934375 27.198738)scale(0.1 -0.1)\">\r\n      <use xlink:href=\"#DejaVuSans-80\"/>\r\n      <use x=\"60.255859\" xlink:href=\"#DejaVuSans-111\"/>\r\n      <use x=\"121.4375\" xlink:href=\"#DejaVuSans-112\"/>\r\n      <use x=\"184.914062\" xlink:href=\"#DejaVuSans-95\"/>\r\n      <use x=\"234.914062\" xlink:href=\"#DejaVuSans-115\"/>\r\n      <use x=\"287.013672\" xlink:href=\"#DejaVuSans-105\"/>\r\n      <use x=\"314.796875\" xlink:href=\"#DejaVuSans-122\"/>\r\n      <use x=\"367.287109\" xlink:href=\"#DejaVuSans-101\"/>\r\n      <use x=\"428.810547\" xlink:href=\"#DejaVuSans-58\"/>\r\n      <use x=\"462.501953\" xlink:href=\"#DejaVuSans-32\"/>\r\n      <use x=\"494.289062\" xlink:href=\"#DejaVuSans-49\"/>\r\n      <use x=\"557.912109\" xlink:href=\"#DejaVuSans-48\"/>\r\n     </g>\r\n    </g>\r\n    <g id=\"line2d_19\">\r\n     <path d=\"M 268.934375 38.654988 \r\nL 288.934375 38.654988 \r\n\" style=\"fill:none;stroke:#ff7f0e;stroke-linecap:square;stroke-width:1.5;\"/>\r\n    </g>\r\n    <g id=\"line2d_20\"/>\r\n    <g id=\"text_15\">\r\n     <!-- Pop_size: 40 -->\r\n     <g transform=\"translate(296.934375 42.154988)scale(0.1 -0.1)\">\r\n      <use xlink:href=\"#DejaVuSans-80\"/>\r\n      <use x=\"60.255859\" xlink:href=\"#DejaVuSans-111\"/>\r\n      <use x=\"121.4375\" xlink:href=\"#DejaVuSans-112\"/>\r\n      <use x=\"184.914062\" xlink:href=\"#DejaVuSans-95\"/>\r\n      <use x=\"234.914062\" xlink:href=\"#DejaVuSans-115\"/>\r\n      <use x=\"287.013672\" xlink:href=\"#DejaVuSans-105\"/>\r\n      <use x=\"314.796875\" xlink:href=\"#DejaVuSans-122\"/>\r\n      <use x=\"367.287109\" xlink:href=\"#DejaVuSans-101\"/>\r\n      <use x=\"428.810547\" xlink:href=\"#DejaVuSans-58\"/>\r\n      <use x=\"462.501953\" xlink:href=\"#DejaVuSans-32\"/>\r\n      <use x=\"494.289062\" xlink:href=\"#DejaVuSans-52\"/>\r\n      <use x=\"557.912109\" xlink:href=\"#DejaVuSans-48\"/>\r\n     </g>\r\n    </g>\r\n    <g id=\"line2d_21\">\r\n     <path d=\"M 268.934375 53.611238 \r\nL 288.934375 53.611238 \r\n\" style=\"fill:none;stroke:#2ca02c;stroke-linecap:square;stroke-width:1.5;\"/>\r\n    </g>\r\n    <g id=\"line2d_22\"/>\r\n    <g id=\"text_16\">\r\n     <!-- Pop_size: 100 -->\r\n     <g transform=\"translate(296.934375 57.111238)scale(0.1 -0.1)\">\r\n      <use xlink:href=\"#DejaVuSans-80\"/>\r\n      <use x=\"60.255859\" xlink:href=\"#DejaVuSans-111\"/>\r\n      <use x=\"121.4375\" xlink:href=\"#DejaVuSans-112\"/>\r\n      <use x=\"184.914062\" xlink:href=\"#DejaVuSans-95\"/>\r\n      <use x=\"234.914062\" xlink:href=\"#DejaVuSans-115\"/>\r\n      <use x=\"287.013672\" xlink:href=\"#DejaVuSans-105\"/>\r\n      <use x=\"314.796875\" xlink:href=\"#DejaVuSans-122\"/>\r\n      <use x=\"367.287109\" xlink:href=\"#DejaVuSans-101\"/>\r\n      <use x=\"428.810547\" xlink:href=\"#DejaVuSans-58\"/>\r\n      <use x=\"462.501953\" xlink:href=\"#DejaVuSans-32\"/>\r\n      <use x=\"494.289062\" xlink:href=\"#DejaVuSans-49\"/>\r\n      <use x=\"557.912109\" xlink:href=\"#DejaVuSans-48\"/>\r\n      <use x=\"621.535156\" xlink:href=\"#DejaVuSans-48\"/>\r\n     </g>\r\n    </g>\r\n   </g>\r\n  </g>\r\n </g>\r\n <defs>\r\n  <clipPath id=\"pdd45e8cf83\">\r\n   <rect height=\"217.44\" width=\"334.8\" x=\"39.65\" y=\"10.600301\"/>\r\n  </clipPath>\r\n </defs>\r\n</svg>\r\n",
      "text/plain": "<Figure size 432x288 with 1 Axes>"
     },
     "metadata": {
      "needs_background": "light"
     },
     "output_type": "display_data"
    }
   ],
   "source": [
    "x = np.arange(0, number_of_generations)\n",
    "for pop_size in pop_sizes:\n",
    "    print(f\"pop_size: {pop_size}, best end score: {np.min(end_scores[pop_size])}, worst end score: {np.max(end_scores[pop_size])}, sd: {sds[pop_size]}, time: {times[pop_size]*1e-9} \")\n",
    "    plt.plot(x, mean_scores[pop_size], label=f\"Pop_size: {pop_size}\")\n",
    "plt.legend()\n",
    "plt.show()"
   ]
  },
  {
   "cell_type": "markdown",
   "metadata": {},
   "source": [
    "In the in my GA the number of inspected tours is number og generations * population size. So for population size 10 it and number of generations is 100 then the amount of tours inspected is 10 * 100 = 1000. For 24 cities this is an incredible small number comaring to (24-1)! So it seems quite effective eaven tho it is not garanteed to be the best solution."
   ]
  },
  {
   "cell_type": "markdown",
   "metadata": {},
   "source": [
    "### Testing if the GA finds the best path"
   ]
  },
  {
   "cell_type": "code",
   "execution_count": 32,
   "metadata": {},
   "outputs": [
    {
     "name": "stdout",
     "output_type": "stream",
     "text": "Scores for 2 cities: 3056.260000000001\nScores for 3 cities: 4024.9899999999984\nScores for 4 cities: 4241.89\nScores for 5 cities: 4983.379999999999\nScores for 6 cities: 5018.809999999999\nScores for 7 cities: 5487.890000000001\nScores for 8 cities: 6667.49\nScores for 9 cities: 6678.550000000004\nScores for 10 cities: 7486.310000000001\n"
    }
   ],
   "source": [
    "\n",
    "for number_of_cities in range(2,11):\n",
    "    representation = cities_data.get_representation(number_of_cities)\n",
    "    subset_data = cities_data.get_subset(number_of_cities)\n",
    "    cur_population = population.Population(\n",
    "        Genotype = genotype.Genotype,\n",
    "        representation= representation,\n",
    "        evaluator = fit,\n",
    "        population_size = 100,\n",
    "        parent_selection_portion = parent_selection_portion,\n",
    "        number_of_offsprings = 200,\n",
    "        mutation_probability = mutation_p\n",
    "    )\n",
    "    score, time_elapsed = genetic_algorithm(\n",
    "        cur_population,\n",
    "        df = subset_data,\n",
    "        number_of_generations = number_of_generations\n",
    "    )\n",
    "    print(f\"Scores for {number_of_cities} cities: {score[-1]}\")\n"
   ]
  },
  {
   "cell_type": "markdown",
   "metadata": {},
   "source": [
    "We can see that with large iterations we have mostly found the best paths"
   ]
  }
 ]
}