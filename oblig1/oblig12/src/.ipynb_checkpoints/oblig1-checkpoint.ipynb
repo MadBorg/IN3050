{
 "cells": [
  {
   "cell_type": "markdown",
   "metadata": {},
   "source": [
    "# Oblig 1 - Sanders"
   ]
  },
  {
   "cell_type": "code",
   "execution_count": 1,
   "metadata": {},
   "outputs": [],
   "source": [
    "import time\n",
    "import math\n",
    "import matplotlib.pyplot as plt\n",
    "import numpy as np\n",
    "\n",
    "import geneticAlgorithm as ga\n",
    "import exhaustiveSearch as es\n",
    "import hill\n",
    "import data\n"
   ]
  },
  {
   "cell_type": "markdown",
   "metadata": {},
   "source": [
    "My cities are mapped to a list of ints, to make it easier. Under is the mapping shown."
   ]
  },
  {
   "cell_type": "code",
   "execution_count": 2,
   "metadata": {},
   "outputs": [
    {
     "name": "stdout",
     "output_type": "stream",
     "text": [
      " City: Barcelona = 0 \n",
      " City: Belgrade = 1 \n",
      " City: Berlin = 2 \n",
      " City: Brussels = 3 \n",
      " City: Bucharest = 4 \n",
      " City: Budapest = 5 \n",
      " City: Copenhagen = 6 \n",
      " City: Dublin = 7 \n",
      " City: Hamburg = 8 \n",
      " City: Istanbul = 9 \n",
      " City: Kiev = 10 \n",
      " City: London = 11 \n",
      " City: Madrid = 12 \n",
      " City: Milan = 13 \n",
      " City: Moscow = 14 \n",
      " City: Munich = 15 \n",
      " City: Paris = 16 \n",
      " City: Prague = 17 \n",
      " City: Rome = 18 \n",
      " City: Saint Petersburg = 19 \n",
      " City: Sofia = 20 \n",
      " City: Stockholm = 21 \n",
      " City: Vienna = 22 \n",
      " City: Warsaw = 23 \n"
     ]
    }
   ],
   "source": [
    "df = data.data(data.path_to_datafile)\n",
    "representation = data.get_representation(df)\n",
    "cities = df.columns\n",
    "# [0, 1, 9, 4, 5, 2, 6, 8, 3, 7]\n",
    "for city, city_int in zip(cities, representation):\n",
    "    print(f\" City: {city} = {city_int} \")"
   ]
  },
  {
   "cell_type": "markdown",
   "metadata": {},
   "source": [
    "\n",
    "## Exhaustive Search\n"
   ]
  },
  {
   "cell_type": "code",
   "execution_count": 3,
   "metadata": {},
   "outputs": [],
   "source": [
    "es_time_data = {} # For timing each iteration\n",
    "exhaustive_search_data = {} # For staring the best paths and socres\n",
    "for i in range(2,11): # iterating trough subset sizes\n",
    "    start_time = time.time()\n",
    "    bestPath, bestScore = es.exhaustiveSearch(i) # Running algorithm\n",
    "    end_time = time.time()\n",
    "    # Storing data\n",
    "    exhaustive_search_data[i] = (bestScore, bestPath)\n",
    "    es_time_data[i] = end_time - start_time\n"
   ]
  },
  {
   "cell_type": "code",
   "execution_count": 4,
   "metadata": {
    "scrolled": true
   },
   "outputs": [
    {
     "name": "stdout",
     "output_type": "stream",
     "text": [
      "#Cities: 2\n",
      "  time: 0.007389068603515625, \n",
      "  Score:  3056.26,\n",
      "  Path: [0, 1]\n",
      "#Cities: 3\n",
      "  time: 0.0030007362365722656, \n",
      "  Score:  4024.99,\n",
      "  Path: [0, 1, 2]\n",
      "#Cities: 4\n",
      "  time: 0.002092123031616211, \n",
      "  Score:  4241.89,\n",
      "  Path: [0, 1, 2, 3]\n",
      "#Cities: 5\n",
      "  time: 0.0, \n",
      "  Score:  4983.38,\n",
      "  Path: [0, 1, 4, 2, 3]\n",
      "#Cities: 6\n",
      "  time: 0.01593637466430664, \n",
      "  Score:  5018.8099999999995,\n",
      "  Path: [0, 1, 4, 5, 2, 3]\n",
      "#Cities: 7\n",
      "  time: 0.051158905029296875, \n",
      "  Score:  5487.89,\n",
      "  Path: [0, 1, 4, 5, 2, 6, 3]\n",
      "#Cities: 8\n",
      "  time: 0.38487792015075684, \n",
      "  Score:  6667.49,\n",
      "  Path: [0, 1, 4, 5, 2, 6, 3, 7]\n",
      "#Cities: 9\n",
      "  time: 3.308502674102783, \n",
      "  Score:  6678.55,\n",
      "  Path: [0, 1, 4, 5, 2, 6, 8, 3, 7]\n",
      "#Cities: 10\n",
      "  time: 33.172536849975586, \n",
      "  Score:  7486.3099999999995,\n",
      "  Path: [0, 1, 9, 4, 5, 2, 6, 8, 3, 7]\n"
     ]
    }
   ],
   "source": [
    "for key in es_time_data:\n",
    "    print(f\"#Cities: {key}\\n  time: {es_time_data[key]}, \\n  Score:  {exhaustive_search_data[key][0]},\\n  Path: {exhaustive_search_data[key][1]}\")"
   ]
  },
  {
   "cell_type": "markdown",
   "metadata": {},
   "source": [
    "\n",
    "We see that for each city we add the time is increased by a substantial amount. From 9 to 10 it is aprox. a factor of 10. But we know gereraly in parmutation problems the increase of complexity is N!.\n",
    "\n",
    "To calculate a rough estimate of time for 24 cities, we can take the time 10 cities take and multiply it with the facotr 24! / 10!. Wich means 24 cities takes aprox. 31 * 24! / 10! seconds."
   ]
  },
  {
   "cell_type": "code",
   "execution_count": 5,
   "metadata": {},
   "outputs": [
    {
     "name": "stdout",
     "output_type": "stream",
     "text": [
      "179728667880.4142\n"
     ]
    }
   ],
   "source": [
    "years = ((math.factorial(24)/math.factorial(10))*es_time_data[10])/60/60/24/365.25\n",
    "print(years)"
   ]
  },
  {
   "cell_type": "markdown",
   "metadata": {},
   "source": [
    "So that is not going to work."
   ]
  },
  {
   "cell_type": "markdown",
   "metadata": {},
   "source": [
    "## Hill Climbing\n"
   ]
  },
  {
   "cell_type": "code",
   "execution_count": 6,
   "metadata": {
    "scrolled": true
   },
   "outputs": [
    {
     "name": "stdout",
     "output_type": "stream",
     "text": [
      "numCities: 2\n",
      "  Best: 3056.26,\n",
      "  Worst: 3056.26, \n",
      "  SD: 9.094947017729282e-13, \n",
      "  time: 0.02123422622680664\n",
      "numCities: 3\n",
      "  Best: 4024.99,\n",
      "  Worst: 4024.99, \n",
      "  SD: 4.547473508864641e-13, \n",
      "  time: 0.03040180206298828\n",
      "numCities: 4\n",
      "  Best: 4241.89,\n",
      "  Worst: 4241.89, \n",
      "  SD: 0.0, \n",
      "  time: 0.03973288536071777\n",
      "numCities: 5\n",
      "  Best: 4983.38,\n",
      "  Worst: 5776.78, \n",
      "  SD: 229.13615651834587, \n",
      "  time: 0.048692739009857176\n",
      "numCities: 6\n",
      "  Best: 5018.8099999999995,\n",
      "  Worst: 6107.72, \n",
      "  SD: 344.6748576789435, \n",
      "  time: 0.05705734491348267\n",
      "numCities: 7\n",
      "  Best: 5487.89,\n",
      "  Worst: 7167.74, \n",
      "  SD: 415.5250063507005, \n",
      "  time: 0.06733838319778443\n",
      "numCities: 8\n",
      "  Best: 7082.219999999999,\n",
      "  Worst: 8921.189999999999, \n",
      "  SD: 524.4511249132275, \n",
      "  time: 0.0767057180404663\n",
      "numCities: 9\n",
      "  Best: 7539.180000000001,\n",
      "  Worst: 9985.86, \n",
      "  SD: 578.7263467086581, \n",
      "  time: 0.08658030033111572\n",
      "numCities: 10\n",
      "  Best: 8597.86,\n",
      "  Worst: 11309.64, \n",
      "  SD: 690.3060079240219, \n",
      "  time: 0.09535678625106811\n",
      "numCities: 24\n",
      "  Best: 24263.209999999995,\n",
      "  Worst: 29880.82000000001, \n",
      "  SD: 1328.9216363513513, \n",
      "  time: 0.22305843830108643\n"
     ]
    }
   ],
   "source": [
    "# Hill Climbing\n",
    "bestScore, worstScore = -1, -1\n",
    "numCities_list = list(range(2,11)) + [24]\n",
    "runs = 20\n",
    "hill_scores = {}\n",
    "bestScores =  {}\n",
    "worstScores =  {}\n",
    "sdScores =  {}\n",
    "times_run =  {}\n",
    "means = {}\n",
    "\n",
    "for numCities in  numCities_list:\n",
    "    scores = []\n",
    "    times = []\n",
    "    for _ in range(runs):\n",
    "\n",
    "        data_subset = data.data_subset(data.path_to_datafile, numCities)\n",
    "        start_time = time.time()\n",
    "        path, score = hill.hill(data_subset, 1000)\n",
    "        end_time = time.time()\n",
    "\n",
    "        scores.append(score)\n",
    "        times.append(end_time - start_time)\n",
    "\n",
    "    # Best\n",
    "    bestScores[numCities] = min(scores)\n",
    "    # Worst\n",
    "    worstScores[numCities] = max(scores)\n",
    "    # Mean\n",
    "    # ip.embed()\n",
    "    mean = sum(scores) / len(scores)\n",
    "    means[numCities] = mean\n",
    "    # Sd\n",
    "    s = 0\n",
    "    for score in scores:\n",
    "        s += (score - mean)**2\n",
    "    s = (s/len(scores))**(1/2)\n",
    "    sdScores[numCities] = s\n",
    "    # Time\n",
    "    mean_time = sum(times) / len(times)\n",
    "    times_run[numCities] =  mean_time\n",
    "\n",
    "# Report\n",
    "for numCities in numCities_list:\n",
    "    print(\n",
    "        f\"numCities: {numCities}\\n\" +\n",
    "        f\"  Best: {bestScores[numCities]},\\n\" +\n",
    "        f\"  Worst: {worstScores[numCities]}, \\n\" +\n",
    "        f\"  SD: {sdScores[numCities]}, \\n\" +\n",
    "        f\"  time: {times_run[numCities]}\"\n",
    "    )"
   ]
  },
  {
   "cell_type": "markdown",
   "metadata": {},
   "source": [
    "## Genetic Algorithm\n",
    "I have chosen to use inversion mutation and pmx for crossover, and with the subset sizes 6, 10, 24."
   ]
  },
  {
   "cell_type": "code",
   "execution_count": null,
   "metadata": {},
   "outputs": [
    {
     "name": "stdout",
     "output_type": "stream",
     "text": [
      "Genetic Algorithm\n"
     ]
    }
   ],
   "source": [
    "# Genetic algorithm\n",
    "print(\"Genetic Algorithm\")\n",
    "numCities_list = [6,10, 24]\n",
    "runs = 20\n",
    "iterations = 1000 # If you want ot run recomened to ether recude iterations or pop size\n",
    "mutation_prob = 0.05\n",
    "pop_size = 40\n",
    "hill_scores = {}\n",
    "bestScores =  {}\n",
    "worstScores =  {}\n",
    "sdScores =  {}\n",
    "times_run =  {}\n",
    "means = {}\n",
    "average_scores_run = {}\n",
    "\n",
    "# r = ga.geneticAlgorithm(\n",
    "#     10,\n",
    "#     10000,\n",
    "#     10,\n",
    "#     0.05,\n",
    "#     debug=False\n",
    "# )\n",
    "\n",
    "for numCities in  numCities_list:\n",
    "    local_min_scores = []\n",
    "    scores = []\n",
    "    times = []\n",
    "    for _ in range(runs):\n",
    "        data_subset = data.data_subset(data.path_to_datafile, numCities)\n",
    "        start_time = time.time()\n",
    "        r = ga.geneticAlgorithm(\n",
    "                                    pop_size,\n",
    "                                    iterations,\n",
    "                                    numCities,\n",
    "                                    mutation_prob,\n",
    "                                    debug=False\n",
    "                                )\n",
    "        score = r[\"bestScore\"]\n",
    "        path = r[\"bestPath\"]\n",
    "        minScores =r[\"minScores\"]\n",
    "\n",
    "        end_time = time.time()\n",
    "\n",
    "        scores.append(score)\n",
    "        times.append(end_time - start_time)\n",
    "        local_min_scores.append(minScores)\n",
    "\n",
    "    tmp_averageScores = []\n",
    "    # ip.embed()\n",
    "    try:\n",
    "        for element in zip(*local_min_scores):\n",
    "            tmp_averageScores.append(\n",
    "                sum(element) / len(element)\n",
    "            )\n",
    "    except TypeError:\n",
    "        ip.embed()\n",
    "\n",
    "    average_scores_run[numCities] = tmp_averageScores\n",
    "\n",
    "\n",
    "    # Best\n",
    "    bestScores[numCities] = min(scores)\n",
    "    # Worst\n",
    "    worstScores[numCities] = max(scores)\n",
    "    # Mean\n",
    "    mean = sum(scores) / len(scores)\n",
    "    means[numCities] = mean\n",
    "    # Sd\n",
    "    s = 0\n",
    "    for score in scores:\n",
    "        s += (score - mean)**2\n",
    "    s = (s/len(scores))**(1/2)\n",
    "    sdScores[numCities] = s\n",
    "    # Time\n",
    "    mean_time = sum(times) / len(times)\n",
    "    times_run[numCities] =  mean_time\n",
    "    # minScores\n",
    "\n",
    "\n",
    "for numCities in numCities_list:\n",
    "    print(\n",
    "        f\"numCities: {numCities}\\n\" +\n",
    "        f\"  Best: {bestScores[numCities]},\\n\" +\n",
    "        f\"  Worst: {worstScores[numCities]}, \\n\" +\n",
    "        f\"  SD: {sdScores[numCities]},\\n\" +\n",
    "        f\"  Time: {times_run[numCities]}\"\n",
    "    )\n",
    "\n",
    "\n"
   ]
  },
  {
   "cell_type": "code",
   "execution_count": null,
   "metadata": {},
   "outputs": [],
   "source": [
    "# ip.embed()\n",
    "fig = plt.figure()\n",
    "x = np.arange(iterations)\n",
    "for numCities in numCities_list:\n",
    "    y = average_scores_run[numCities]\n",
    "    plt.plot(x, y)\n",
    "plt.show()\n",
    "\n",
    "for numCities in numCities_list:\n",
    "    print(\n",
    "        f\"numCities: {numCities}\\n\" +\n",
    "        f\"  Best: {bestScores[numCities]},\\n\" +\n",
    "        f\"  Worst: {worstScores[numCities]}, \\n\" +\n",
    "        f\"  SD: {sdScores[numCities]},\\n\" +\n",
    "        f\"  Time: {times_run[numCities]}\"\n",
    "    )"
   ]
  },
  {
   "cell_type": "markdown",
   "metadata": {},
   "source": [
    "The time for my genetic algorithm is to high for 6, but for simplisity i am running the same iterations and pop size for all of the subsets.\n",
    "The genetic algorithm did find the best city, but withot a seed it might not be easily reproducible. \n",
    "Time for GA id 11 seconds on average. Time for exhaustive search was 31 seconds. and for 24 cities my algrothm will not finish this millenia, if my calculation is right. "
   ]
  }
 ],
 "metadata": {
  "kernelspec": {
   "display_name": "Python 3.7.6 64-bit ('in3050': conda)",
   "language": "python",
   "name": "python37664bitin3050conda51a04a9cd61746a698653ea0bca85b8a"
  },
  "language_info": {
   "codemirror_mode": {
    "name": "ipython",
    "version": 3
   },
   "file_extension": ".py",
   "mimetype": "text/x-python",
   "name": "python",
   "nbconvert_exporter": "python",
   "pygments_lexer": "ipython3",
   "version": "3.7.6"
  }
 },
 "nbformat": 4,
 "nbformat_minor": 4
}
