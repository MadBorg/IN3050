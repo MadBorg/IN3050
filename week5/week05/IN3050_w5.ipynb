{
 "cells": [
  {
   "cell_type": "markdown",
   "metadata": {},
   "source": [
    "# Week 05: Classification\n",
    "## Introduction\n",
    "The goal of this week is to get a first experience with supervised classification.\n",
    "In particular, we will get familiar with how to set up, run and evaluate experiments.\n",
    "We will also implement the *k*NN-algorithm and the simple perceptron using pure python."
   ]
  },
  {
   "cell_type": "code",
   "execution_count": 1,
   "metadata": {},
   "outputs": [],
   "source": [
    "import numpy as np\n",
    "import matplotlib.pyplot as plt\n",
    "import sklearn"
   ]
  },
  {
   "cell_type": "markdown",
   "metadata": {},
   "source": [
    "## Dataset\n",
    "To do machine learning, we need data.\n",
    "To make it simple, we use scikit-learn to construct a synthetic dataset with\n",
    "- 2 classes\n",
    "- 2 numerical features\n",
    "- 200 items\n",
    "\n",
    "Since we will be using pure python in this exercise set, we transform the data from numpy arrays to lists.\n",
    "\n",
    "Don't worry about the magic recipe for how we cook the data for now!"
   ]
  },
  {
   "cell_type": "code",
   "execution_count": 102,
   "metadata": {},
   "outputs": [],
   "source": [
    "from sklearn.datasets import make_blobs\n",
    "X_np, y_np = make_blobs(n_samples=200, centers=[[0,0],[1,2]], \n",
    "                  n_features=2, random_state=2019)\n",
    "X1 = [(X_np[i,0], X_np[i,1]) for i in range(X_np.shape[0])]\n",
    "y1 = [y_np[i] for i in range(X_np.shape[0])]"
   ]
  },
  {
   "cell_type": "markdown",
   "metadata": {},
   "source": [
    "This is a general form for representing data we will use a lot in this course. We store the features in one list and the labels in another list of the same length. For example, y[14] is the label the dataset ascribes to the input X[14].\n",
    "(Later on we will use numpy arrays and not lists, e.g. the X_np, y_np, above.)\n",
    "\n",
    "We can then take a look at the training set."
   ]
  },
  {
   "cell_type": "code",
   "execution_count": 4,
   "metadata": {},
   "outputs": [],
   "source": [
    "def show(X, y, marker='.'):\n",
    "    labels = set(y)\n",
    "    cl = {lab : [] for lab in labels}\n",
    "    # cl[lab] shall contain the datapoints labeled cl\n",
    "    for (a, b) in zip(X, y):\n",
    "        cl[b].append(a)\n",
    "    for lab in labels:\n",
    "        plt.plot([a[0] for a in cl[lab]], [a[1] for a in cl[lab]], \n",
    "                 marker, label=\"class {}\".format(lab))\n",
    "    plt.legend()"
   ]
  },
  {
   "cell_type": "code",
   "execution_count": 5,
   "metadata": {
    "scrolled": true
   },
   "outputs": [
    {
     "data": {
      "image/png": "[encoded data removed]",
      "text/plain": [
       "<Figure size 432x288 with 1 Axes>"
      ]
     },
     "metadata": {
      "needs_background": "light"
     },
     "output_type": "display_data"
    }
   ],
   "source": [
    "show(X1, y1)"
   ]
  },
  {
   "cell_type": "markdown",
   "metadata": {},
   "source": [
    "## *k*NN\n",
    "We will now implement the *k*NN algorithm.\n",
    "We first need to calculate the distance between two points.\n",
    "\n",
    "There are, of course, methods, e.g. in numpy, that are more than willing to do this for us. But we are here to learn. So we implement it ourselves.\n",
    "\n",
    "### Exercise I: Distance\n",
    "Implement a (L2-) distance function. It should work for points in *n*-dimensional space for any integer *n*>0. Check that dist((3,4,0),(0,0,12)) is 13."
   ]
  },
  {
   "cell_type": "code",
   "execution_count": 6,
   "metadata": {},
   "outputs": [
    {
     "name": "stdout",
     "output_type": "stream",
     "text": [
      "1.4142135623730951\n"
     ]
    }
   ],
   "source": [
    "def distance_L2(a,b): # Euclidian distance\n",
    "    \"Calculate and return the L2-distance between a and b\"\n",
    "    tmp = (a - b)**2\n",
    "    return np.sum(tmp)**(1/2)\n",
    "a = np.array((0,0))\n",
    "b = np.array((1,1))\n",
    "print(distance_L2(a,b))\n"
   ]
  },
  {
   "cell_type": "markdown",
   "metadata": {},
   "source": [
    "### Exercise II: Majority class\n",
    "The next thing we need is a way to determine the majority class from a set of votes. Implement a procedure which takes a list as argument and returns the majority class. "
   ]
  },
  {
   "cell_type": "code",
   "execution_count": 21,
   "metadata": {},
   "outputs": [
    {
     "name": "stdout",
     "output_type": "stream",
     "text": [
      "0\n"
     ]
    }
   ],
   "source": [
    "from collections import Counter\n",
    "def majority(a):\n",
    "    \"\"\"Return the majority class of a\n",
    "    \n",
    "    For example majority([0,1,1,1,0]) should return 1\"\"\"\n",
    "    return Counter(a).most_common()[0][0]\n",
    "a = np.random.randint(0,10, size=1000)\n",
    "print(majority(a))"
   ]
  },
  {
   "cell_type": "markdown",
   "metadata": {},
   "source": [
    "#### Hint: Counter\n",
    "For this we can use the Counter method. If you are not familiar with Counter, experiment with it to see how it works."
   ]
  },
  {
   "cell_type": "code",
   "execution_count": null,
   "metadata": {},
   "outputs": [],
   "source": [
    "from collections import Counter\n",
    "print(\"Example\")\n",
    "s = ['a', 'b', 'c', 'b', 'c']\n",
    "counts = Counter(s)\n",
    "print(s)\n",
    "print(counts)\n",
    "print(counts.most_common())"
   ]
  },
  {
   "cell_type": "markdown",
   "metadata": {},
   "source": [
    "### Exercise III: the *k*NN algorithm\n",
    "We will use a class for implementing the classifier. We have chosen a format that we can later reuse for various other classifier algorithms. The format is inspired by scikit-learn. We will have a superclass where we can put methods common to the various classification algorithms.\n",
    "\n",
    "The class will have three methods; one `init` where we set the hypermarameters, one `fit` where the training takes place, and one `predict` which predicts the class of a new item after we have trained the classifier.\n",
    "\n",
    "The Training will have the form\n",
    "```python\n",
    "cls = PykNNClassifier(k=5) # OR some other number, default 3\n",
    "cls.fit(X_train, y_train)```\n",
    "\n",
    "We can then classify a new item by e.g.\n",
    "```python\n",
    "p = (1,1)\n",
    "cls.predict(p)```\n",
    "\n",
    "Implement the `predict` method."
   ]
  },
  {
   "cell_type": "code",
   "execution_count": 104,
   "metadata": {},
   "outputs": [],
   "source": [
    "class PyClassifier():\n",
    "    \"\"\"Common methods to all python classifiers --- if any\n",
    "    \n",
    "    Nothing here yet\"\"\"\n",
    "    \n",
    "    def distance_L2(self, a,b): # Euclidian distance\n",
    "        \"Calculate and return the L2-distance between a and b\"\n",
    "        distance = 0\n",
    "        for p1, p2 in zip(a,b):\n",
    "            distance += p1**2 + p2**2\n",
    "        distance = distance**(1/2)\n",
    "        return distance\n",
    "    \n",
    "    def majority(self, a):\n",
    "        \"\"\"Return the majority class of a\n",
    "\n",
    "        For example majority([0,1,1,1,0]) should return 1\"\"\"\n",
    "        return Counter(a).most_common()[0][0]"
   ]
  },
  {
   "cell_type": "code",
   "execution_count": 178,
   "metadata": {},
   "outputs": [],
   "source": [
    "class PykNNClassifier(PyClassifier):\n",
    "    \"\"\"kNN classifier using pure python representations\"\"\"\n",
    "    \n",
    "    def __init__(self, k=3, dist=distance_L2):\n",
    "        self.k = k\n",
    "        self.dist = dist\n",
    "        \n",
    "    def fit(self, X_train, y_train):\n",
    "        self.X_train = X_train[:]\n",
    "        self.y_train = y_train[:]\n",
    "    \n",
    "    def predict(self, a):\n",
    "        \"\"\"Implement this\"\"\"\n",
    "        X_train, y_train = self.X_train, self.y_train[:]\n",
    "        distances = tuple(map(\n",
    "            lambda b: self.distance_L2(a, b), X_train\n",
    "        ))\n",
    "        # Picking k smallest distances\n",
    "        _ , y = zip(*sorted(zip(distances,y_train), reverse=False))\n",
    "#         print(f\" distance: {_}, y: {y}\")\n",
    "\n",
    "        return self.majority(y[0:self.k])\n",
    "            \n",
    "            \n",
    "        \n",
    "        \n",
    "\n",
    "        \n",
    "        "
   ]
  },
  {
   "cell_type": "code",
   "execution_count": 132,
   "metadata": {},
   "outputs": [
    {
     "name": "stdout",
     "output_type": "stream",
     "text": [
      "0\n"
     ]
    },
    {
     "data": {
      "text/plain": [
       "[<matplotlib.lines.Line2D at 0x27a65d34f08>]"
      ]
     },
     "execution_count": 132,
     "metadata": {},
     "output_type": "execute_result"
    },
    {
     "data": {
      "image/png": "[encoded data removed]",
      "text/plain": [
       "<Figure size 432x288 with 1 Axes>"
      ]
     },
     "metadata": {
      "needs_background": "light"
     },
     "output_type": "display_data"
    }
   ],
   "source": [
    "# Test run\n",
    "# X, y = X1[0:10], y1[0:10]\n",
    "X, y = X1, y1\n",
    "a = (0.5, 3)\n",
    "\n",
    "knn_obj = PykNNClassifier()\n",
    "knn_obj.fit(X, y)\n",
    "print(knn_obj.predict(a))\n",
    "show(X, y)\n",
    "plt.plot(*a, \"o\",)\n"
   ]
  },
  {
   "cell_type": "markdown",
   "metadata": {},
   "source": [
    "### Exercise IV: *k*\n",
    "Experiment with kNN_predict(p, X1, y1, k=k) with various points and values\n",
    "of *k*.\n",
    "Can you find a point *p* where the class is changed by changing the value of *k*?"
   ]
  },
  {
   "cell_type": "markdown",
   "metadata": {},
   "source": [
    "## Experiments and evaluation\n",
    "To check how good the classifier is, we cannot consider singular datapoints. \n",
    "We have to see how the classifier performs on a larger test set.\n",
    "With our synthetic training data, we can make a test set in a similar way.\n",
    "\n",
    "We follow the same recipe as for the training set, but observe that we use a different *random_state* to get a set different from the training set."
   ]
  },
  {
   "cell_type": "code",
   "execution_count": 161,
   "metadata": {},
   "outputs": [],
   "source": [
    "X_np, y_np = make_blobs(n_samples=200, centers=[[0,0],[1,2]], \n",
    "                  n_features=2, random_state=2020)\n",
    "X2 = [(X_np[i,0], X_np[i,1]) for i in range(X_np.shape[0])]\n",
    "y2 = [y_np[i] for i in range(X_np.shape[0])]"
   ]
  },
  {
   "cell_type": "code",
   "execution_count": 162,
   "metadata": {
    "scrolled": true
   },
   "outputs": [
    {
     "data": {
      "image/png": "[encoded data removed]",
      "text/plain": [
       "<Figure size 432x288 with 1 Axes>"
      ]
     },
     "metadata": {
      "needs_background": "light"
     },
     "output_type": "display_data"
    }
   ],
   "source": [
    "show(X2, y2, 'x')"
   ]
  },
  {
   "cell_type": "markdown",
   "metadata": {},
   "source": [
    "### Exercise V: Accuracy\n",
    "There are several different evaluation measures that can be used, and we will see a couple of them the coming weeks. For today, we only consider the simple *accuracy*, the proportion of items classified correctly.\n",
    "Implement a method for accuracy in `PyClassifier()`, so that it can be reused in other classifiers. \n",
    "After you have updated `PyClassifier()`, you have to rerun \n",
    "`class PykNNClassifier(PyClassifier)`.\n",
    "After we have trained the classifier, we can call it as follows:\n",
    "```python\n",
    "cls.accuracy(X_test, y_test)```\n",
    "It should return a numerical value.\n",
    "\n",
    "Implement a function which calculates the accuracy of the\n",
    "kNN_predict.\n",
    "Test it on X2, y2 when trained on X1, y1 for various values of *k*.\n",
    "Let *k* be any odd integer below 20. Plot the results.\n",
    "\n",
    "Beware that there is no *k* which is the best for all datasets. It varies with the dataset. To decide on the best *k* for a specific dataset, we should use a separate development test set to determine the best *k*. Then we fix this *k* and test on the final test set. "
   ]
  },
  {
   "cell_type": "code",
   "execution_count": 177,
   "metadata": {},
   "outputs": [],
   "source": [
    "class PyClassifier():\n",
    "    \"\"\"Common methods to all python classifiers --- if any\"\"\"\n",
    "    \n",
    "    def accuracy(self,X_test, y_test, **kwargs):\n",
    "        \"\"\"Calculate the accuracy of the classifier \n",
    "        using the predict method\"\"\"\n",
    "#         y_calculated = tuple(map(\n",
    "#             self.predict, X_test\n",
    "#         ))\n",
    "        y_calculated = []\n",
    "        for val in X_test:\n",
    "            y_calculated.append(\n",
    "                self.predict(val)\n",
    "            )\n",
    "        nCorrect = 0.0\n",
    "        for test, calc in zip(y_test, y_calculated):\n",
    "            nCorrect += (test == calc)\n",
    "        print(f\"k: {self.k}, nCorrect: {nCorrect}, n: {len(y_test)}\")\n",
    "        print(f\"y_calc: {y_calculated}, y_tes:{y_test}\")\n",
    "        return nCorrect / len(y_test)\n",
    "    \n",
    "    def distance_L2(self, a,b): # Euclidian distance\n",
    "        \"Calculate and return the L2-distance between a and b\"\n",
    "        distance = 0\n",
    "        for p1, p2 in zip(a,b):\n",
    "            distance += p1**2 + p2**2\n",
    "        distance = distance**(1/2)\n",
    "        return distance\n",
    "    \n",
    "    def majority(self, a):\n",
    "        \"\"\"Return the majority class of a\n",
    "\n",
    "        For example majority([0,1,1,1,0]) should return 1\"\"\"\n",
    "        return Counter(a).most_common()[0][0]"
   ]
  },
  {
   "cell_type": "code",
   "execution_count": 179,
   "metadata": {},
   "outputs": [
    {
     "name": "stdout",
     "output_type": "stream",
     "text": [
      "k: 1, nCorrect: 5.0, n: 10\n",
      "y_calc: [1, 1, 1, 1, 1, 1, 1, 1, 1, 1], y_tes:[1, 0, 1, 1, 0, 0, 1, 1, 0, 0]\n",
      "k: 2, nCorrect: 5.0, n: 10\n",
      "y_calc: [1, 1, 1, 1, 1, 1, 1, 1, 1, 1], y_tes:[1, 0, 1, 1, 0, 0, 1, 1, 0, 0]\n",
      "k: 3, nCorrect: 5.0, n: 10\n",
      "y_calc: [0, 0, 0, 0, 0, 0, 0, 0, 0, 0], y_tes:[1, 0, 1, 1, 0, 0, 1, 1, 0, 0]\n",
      "k: 4, nCorrect: 5.0, n: 10\n",
      "y_calc: [0, 0, 0, 0, 0, 0, 0, 0, 0, 0], y_tes:[1, 0, 1, 1, 0, 0, 1, 1, 0, 0]\n",
      "k: 5, nCorrect: 5.0, n: 10\n",
      "y_calc: [0, 0, 0, 0, 0, 0, 0, 0, 0, 0], y_tes:[1, 0, 1, 1, 0, 0, 1, 1, 0, 0]\n",
      "k: 6, nCorrect: 5.0, n: 10\n",
      "y_calc: [0, 0, 0, 0, 0, 0, 0, 0, 0, 0], y_tes:[1, 0, 1, 1, 0, 0, 1, 1, 0, 0]\n",
      "k: 7, nCorrect: 5.0, n: 10\n",
      "y_calc: [0, 0, 0, 0, 0, 0, 0, 0, 0, 0], y_tes:[1, 0, 1, 1, 0, 0, 1, 1, 0, 0]\n",
      "k: 8, nCorrect: 5.0, n: 10\n",
      "y_calc: [0, 0, 0, 0, 0, 0, 0, 0, 0, 0], y_tes:[1, 0, 1, 1, 0, 0, 1, 1, 0, 0]\n",
      "k: 9, nCorrect: 5.0, n: 10\n",
      "y_calc: [0, 0, 0, 0, 0, 0, 0, 0, 0, 0], y_tes:[1, 0, 1, 1, 0, 0, 1, 1, 0, 0]\n",
      "k: 10, nCorrect: 5.0, n: 10\n",
      "y_calc: [0, 0, 0, 0, 0, 0, 0, 0, 0, 0], y_tes:[1, 0, 1, 1, 0, 0, 1, 1, 0, 0]\n",
      "k: 11, nCorrect: 5.0, n: 10\n",
      "y_calc: [0, 0, 0, 0, 0, 0, 0, 0, 0, 0], y_tes:[1, 0, 1, 1, 0, 0, 1, 1, 0, 0]\n",
      "k: 12, nCorrect: 5.0, n: 10\n",
      "y_calc: [0, 0, 0, 0, 0, 0, 0, 0, 0, 0], y_tes:[1, 0, 1, 1, 0, 0, 1, 1, 0, 0]\n",
      "k: 13, nCorrect: 5.0, n: 10\n",
      "y_calc: [0, 0, 0, 0, 0, 0, 0, 0, 0, 0], y_tes:[1, 0, 1, 1, 0, 0, 1, 1, 0, 0]\n",
      "k: 14, nCorrect: 5.0, n: 10\n",
      "y_calc: [0, 0, 0, 0, 0, 0, 0, 0, 0, 0], y_tes:[1, 0, 1, 1, 0, 0, 1, 1, 0, 0]\n",
      "k: 15, nCorrect: 5.0, n: 10\n",
      "y_calc: [0, 0, 0, 0, 0, 0, 0, 0, 0, 0], y_tes:[1, 0, 1, 1, 0, 0, 1, 1, 0, 0]\n",
      "k: 16, nCorrect: 5.0, n: 10\n",
      "y_calc: [0, 0, 0, 0, 0, 0, 0, 0, 0, 0], y_tes:[1, 0, 1, 1, 0, 0, 1, 1, 0, 0]\n",
      "k: 17, nCorrect: 5.0, n: 10\n",
      "y_calc: [0, 0, 0, 0, 0, 0, 0, 0, 0, 0], y_tes:[1, 0, 1, 1, 0, 0, 1, 1, 0, 0]\n",
      "k: 18, nCorrect: 5.0, n: 10\n",
      "y_calc: [0, 0, 0, 0, 0, 0, 0, 0, 0, 0], y_tes:[1, 0, 1, 1, 0, 0, 1, 1, 0, 0]\n"
     ]
    },
    {
     "data": {
      "text/plain": [
       "[<matplotlib.lines.Line2D at 0x27a66257888>]"
      ]
     },
     "execution_count": 179,
     "metadata": {},
     "output_type": "execute_result"
    },
    {
     "data": {
      "image/png": "[encoded data removed]",
      "text/plain": [
       "<Figure size 432x288 with 1 Axes>"
      ]
     },
     "metadata": {
      "needs_background": "light"
     },
     "output_type": "display_data"
    }
   ],
   "source": [
    "\n",
    "knn_obj = PykNNClassifier()\n",
    "knn_obj.fit(X1, y1)\n",
    "\n",
    "acc = np.zeros(19)\n",
    "for i in range(1,len(acc)):\n",
    "    knn_obj.k = i\n",
    "    acc[i] = knn_obj.accuracy(X2[0:10], y2[0:10])\n",
    "plt.plot(acc)"
   ]
  },
  {
   "cell_type": "markdown",
   "metadata": {},
   "source": [
    "### Exercise VI: Variation"
   ]
  },
  {
   "cell_type": "markdown",
   "metadata": {},
   "source": [
    "One should be cautious drawing too strong conclusions from an experiment like this. Check whether you get the same result with a different random test set drawn from the same distribution."
   ]
  },
  {
   "cell_type": "markdown",
   "metadata": {},
   "source": [
    "## Perceptron classifier\n",
    "We turn to the perceptron classifier. \n",
    "We will first consider some \"paper-or-pencil\" exercises to get more familiar with the algorithm, before we consider an implementation."
   ]
  },
  {
   "cell_type": "markdown",
   "metadata": {},
   "source": [
    "### Exercise VII.i\n",
    "You want to predict if movies will be profitable based on their screenplays. You hire two critics A and B to read a script you have and rate it on a scale of 1 to 6. The critics are not perfect; here are five data points including the critics' scores and the performance of the movie:\n",
    "```\n",
    "| Movie # | Alice    | Bob       | Profitable? |\n",
    "|  _______|__________|___________|_____________|\n",
    "|  1      | 1        | 1         |      no     |\n",
    "|  _______|__________|___________|_____________|\n",
    "|  2      | 4        | 3         |      yes    |\n",
    "|  _______|__________|___________|_____________|\n",
    "|  3      | 3        | 5         |      yes    |\n",
    "|  _______|__________|___________|_____________|\n",
    "|  4      | 5        | 6         |      yes    |\n",
    "|  _______|__________|___________|_____________|\n",
    "|  5      | 2        | 3         |      no     |\n",
    "|  _______|__________|___________|_____________|\n",
    "```\n",
    "Is the data linearily separable? Plot the data on the 2D plane below; label profitable movies with + and non-profitable movies with - and determine if the data are linearily separable."
   ]
  },
  {
   "cell_type": "markdown",
   "metadata": {},
   "source": [
    "### Exercise VII.ii\n",
    "\n",
    "Now you decide to use a perceptron to classify your data. Suppose you directly use the scores given above as features, together with a bias feature. That is 𝑓0=1, 𝑓1 = score given by A and 𝑓2\n",
    "= score given by B.\n",
    "\n",
    "Run one pass through the data with the perceptron algorithm, filling out the table below. Go through the data points in order, e.g. using data point 0 at step 1. For each of the 5 steps write the current state of the weights, the score, and whether the prediction is correct.\n",
    "\n",
    "```\n",
    "| Step | Weights    | Score                   | Correct predicition? |\n",
    "_______|____________|_________________________|______________________|\n",
    "|  1   | (-1, 0, 0) | -1*1 + 0*1 + 0 * 1 = -1 |      yes             |\n",
    "_______|____________|_________________________|______________________|\n",
    "|  2   |            |                         |                      |\n",
    "_______|____________|_________________________|______________________|\n",
    "|  3   |            |                         |                      |\n",
    "_______|____________|_________________________|______________________|\n",
    "|  4   |            |                         |                      |\n",
    "_______|____________|_________________________|______________________|\n",
    "|  5   |            |                         |                      |\n",
    "_______|____________|_________________________|______________________|\n",
    "\n",
    "```"
   ]
  },
  {
   "cell_type": "markdown",
   "metadata": {},
   "source": [
    "### Exercise VII.iii\n",
    " Have weights been learned that separate the data?"
   ]
  },
  {
   "cell_type": "markdown",
   "metadata": {},
   "source": [
    "### Exercise VII.iv\n",
    "More generally, irrespective of the training data, you want to know if your features are powerful enough to allow you to handle a range of scenarios. Which of the following scenarios can a perceptron using the features above  indeed perfectly classify movies which are profitable according to the given rules:\n",
    "\n",
    "1. Your reviewers are awesome: if the total of their scores is more than 8, then the movie will definitely be profitable, and otherwise it won't be.\n",
    "\n",
    "2. Your reviewers are art critics. Your movie will be profitable if and only if each reviewer gives either a score of 3 or a score of 4.\n",
    "\n",
    "3. Your reviewers have weird but different tastes. Your movie will be profitable if and only if both reviewers agree."
   ]
  },
  {
   "cell_type": "markdown",
   "metadata": {},
   "source": [
    "### Exercise VIII, Implementing the perceptron learning algorithm\n",
    "We will use the same framework as for the *k*NN-classifier. You should implement the two methods `fit` and `predict`. You don't need a `__init__` method. You may include other methods if you find it convenient.\n",
    "\n",
    "The main part of the perceptron classifier is the `fit` method that trains the perceptron.\n",
    "`eta`is the learning rate\n",
    "One `epoch` is a run through all the training data.\n",
    "We have set the default to one epoch, but you might need more.\n",
    "Remember to add the bias to the data."
   ]
  },
  {
   "cell_type": "code",
   "execution_count": null,
   "metadata": {},
   "outputs": [],
   "source": [
    "class PyPerClassifier(PyClassifier):\n",
    "    \"\"\"Simple perceptron python classifier\"\"\"\n",
    "    \n",
    "    def fit(self, X_train, y_train, eta=1, epochs=1):\n",
    "        \"\"\"Train the self.weights on the training data eith learning\n",
    "        rate eta, running epochs many epochs\"\"\"\n",
    "    \n",
    "    \n",
    "    def predict(self, x):\n",
    "        \"\"\"Predict the value for the item x\"\"\"\n"
   ]
  },
  {
   "cell_type": "markdown",
   "metadata": {},
   "source": [
    "### Exercise IX\n",
    "Train PyPerClassifier_on1  X1, y1 and test on X2, y2 as with the *k*NN-classifier. Try various numbers of epochs and see whether it makes a difference.\n",
    "\n",
    "Is X2, y2 linearly separable?"
   ]
  },
  {
   "cell_type": "markdown",
   "metadata": {},
   "source": [
    "### Exercise X: termination and weights\n",
    "- Extend the *PyPerClassifier()* with a method such that we can inspect the weights after training  is completed.\n",
    "- Modify the *fit*-method of the classifier such that training halts when there are no more updates, and it is possible to inspect how many epochs it took.\n",
    "- Run this on the five points film critics dataset. How many epochs does it take to reach completion?\n",
    "- What are the final weights? Can you plot the decision border that corresponds to these weights together with the data set?"
   ]
  }
 ],
 "metadata": {
  "kernelspec": {
   "display_name": "Python 3",
   "language": "python",
   "name": "python3"
  },
  "language_info": {
   "codemirror_mode": {
    "name": "ipython",
    "version": 3
   },
   "file_extension": ".py",
   "mimetype": "text/x-python",
   "name": "python",
   "nbconvert_exporter": "python",
   "pygments_lexer": "ipython3",
   "version": "3.7.4"
  }
 },
 "nbformat": 4,
 "nbformat_minor": 4
}
